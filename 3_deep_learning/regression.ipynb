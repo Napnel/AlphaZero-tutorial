{
 "cells": [
  {
   "cell_type": "code",
   "execution_count": 1,
   "metadata": {},
   "outputs": [],
   "source": [
    "from tensorflow.keras.datasets import boston_housing\n",
    "from tensorflow.keras.layers import Activation, Dense, Dropout\n",
    "from tensorflow.keras.models import Sequential\n",
    "from tensorflow.keras.callbacks import EarlyStopping\n",
    "from tensorflow.keras.optimizers import Adam\n",
    "import pandas as pd\n",
    "import numpy as np\n",
    "import matplotlib.pyplot as plt\n",
    "\n",
    "from utils.gpu_memory import limited_gpu_memory"
   ]
  },
  {
   "cell_type": "code",
   "execution_count": 2,
   "metadata": {},
   "outputs": [
    {
     "output_type": "stream",
     "name": "stdout",
     "text": "memory growth: True\n"
    }
   ],
   "source": [
    "limited_gpu_memory()"
   ]
  },
  {
   "cell_type": "code",
   "execution_count": 3,
   "metadata": {},
   "outputs": [],
   "source": [
    "(train_data, train_labels), (test_data, test_labels) = boston_housing.load_data()"
   ]
  },
  {
   "cell_type": "code",
   "execution_count": 4,
   "metadata": {},
   "outputs": [
    {
     "output_type": "stream",
     "name": "stdout",
     "text": "(404, 13)\n(404,)\n(102, 13)\n(102,)\n"
    }
   ],
   "source": [
    "print(train_data.shape)\n",
    "print(train_labels.shape)\n",
    "\n",
    "print(test_data.shape)\n",
    "print(test_labels.shape)"
   ]
  },
  {
   "cell_type": "code",
   "execution_count": 5,
   "metadata": {},
   "outputs": [
    {
     "output_type": "execute_result",
     "data": {
      "text/plain": "      CRIM    ZN  INDUS  CHAS    NOX     RM    AGE     DIS   RAD    TAX  \\\n0  1.23247   0.0   8.14   0.0  0.538  6.142   91.7  3.9769   4.0  307.0   \n1  0.02177  82.5   2.03   0.0  0.415  7.610   15.7  6.2700   2.0  348.0   \n2  4.89822   0.0  18.10   0.0  0.631  4.970  100.0  1.3325  24.0  666.0   \n3  0.03961   0.0   5.19   0.0  0.515  6.037   34.5  5.9853   5.0  224.0   \n4  3.69311   0.0  18.10   0.0  0.713  6.376   88.4  2.5671  24.0  666.0   \n\n   PTRATIO       B  LSTAT  \n0     21.0  396.90  18.72  \n1     14.7  395.38   3.11  \n2     20.2  375.52   3.26  \n3     20.2  396.90   8.01  \n4     20.2  391.43  14.65  ",
      "text/html": "<div>\n<style scoped>\n    .dataframe tbody tr th:only-of-type {\n        vertical-align: middle;\n    }\n\n    .dataframe tbody tr th {\n        vertical-align: top;\n    }\n\n    .dataframe thead th {\n        text-align: right;\n    }\n</style>\n<table border=\"1\" class=\"dataframe\">\n  <thead>\n    <tr style=\"text-align: right;\">\n      <th></th>\n      <th>CRIM</th>\n      <th>ZN</th>\n      <th>INDUS</th>\n      <th>CHAS</th>\n      <th>NOX</th>\n      <th>RM</th>\n      <th>AGE</th>\n      <th>DIS</th>\n      <th>RAD</th>\n      <th>TAX</th>\n      <th>PTRATIO</th>\n      <th>B</th>\n      <th>LSTAT</th>\n    </tr>\n  </thead>\n  <tbody>\n    <tr>\n      <th>0</th>\n      <td>1.23247</td>\n      <td>0.0</td>\n      <td>8.14</td>\n      <td>0.0</td>\n      <td>0.538</td>\n      <td>6.142</td>\n      <td>91.7</td>\n      <td>3.9769</td>\n      <td>4.0</td>\n      <td>307.0</td>\n      <td>21.0</td>\n      <td>396.90</td>\n      <td>18.72</td>\n    </tr>\n    <tr>\n      <th>1</th>\n      <td>0.02177</td>\n      <td>82.5</td>\n      <td>2.03</td>\n      <td>0.0</td>\n      <td>0.415</td>\n      <td>7.610</td>\n      <td>15.7</td>\n      <td>6.2700</td>\n      <td>2.0</td>\n      <td>348.0</td>\n      <td>14.7</td>\n      <td>395.38</td>\n      <td>3.11</td>\n    </tr>\n    <tr>\n      <th>2</th>\n      <td>4.89822</td>\n      <td>0.0</td>\n      <td>18.10</td>\n      <td>0.0</td>\n      <td>0.631</td>\n      <td>4.970</td>\n      <td>100.0</td>\n      <td>1.3325</td>\n      <td>24.0</td>\n      <td>666.0</td>\n      <td>20.2</td>\n      <td>375.52</td>\n      <td>3.26</td>\n    </tr>\n    <tr>\n      <th>3</th>\n      <td>0.03961</td>\n      <td>0.0</td>\n      <td>5.19</td>\n      <td>0.0</td>\n      <td>0.515</td>\n      <td>6.037</td>\n      <td>34.5</td>\n      <td>5.9853</td>\n      <td>5.0</td>\n      <td>224.0</td>\n      <td>20.2</td>\n      <td>396.90</td>\n      <td>8.01</td>\n    </tr>\n    <tr>\n      <th>4</th>\n      <td>3.69311</td>\n      <td>0.0</td>\n      <td>18.10</td>\n      <td>0.0</td>\n      <td>0.713</td>\n      <td>6.376</td>\n      <td>88.4</td>\n      <td>2.5671</td>\n      <td>24.0</td>\n      <td>666.0</td>\n      <td>20.2</td>\n      <td>391.43</td>\n      <td>14.65</td>\n    </tr>\n  </tbody>\n</table>\n</div>"
     },
     "metadata": {},
     "execution_count": 5
    }
   ],
   "source": [
    "# データセットのデータの確認\n",
    "column_names = ['CRIM', 'ZN', 'INDUS', 'CHAS', 'NOX', 'RM', 'AGE',  'DIS', 'RAD', 'TAX', 'PTRATIO', 'B', 'LSTAT']\n",
    "df = pd.DataFrame(train_data, columns=column_names)\n",
    "df.head()"
   ]
  },
  {
   "cell_type": "code",
   "execution_count": 6,
   "metadata": {},
   "outputs": [
    {
     "output_type": "stream",
     "name": "stdout",
     "text": "[15.2 42.3 50.  21.1 17.7 18.5 11.3 15.6 15.6 14.4]\n"
    }
   ],
   "source": [
    "# データセットのラベルの確認\n",
    "print(train_labels[0:10])"
   ]
  },
  {
   "cell_type": "code",
   "execution_count": 7,
   "metadata": {},
   "outputs": [],
   "source": [
    "# データセットの前処理\n",
    "order = np.argsort(np.random.random(train_labels.shape))\n",
    "train_data = train_data[order]\n",
    "train_labels = train_labels[order]\n",
    "\n",
    "mean = train_data.mean(axis=0)\n",
    "std = train_data.std(axis=0)\n",
    "train_data = (train_data - mean) / std\n",
    "test_data = (test_data - mean) / std"
   ]
  },
  {
   "cell_type": "code",
   "execution_count": 8,
   "metadata": {},
   "outputs": [
    {
     "output_type": "execute_result",
     "data": {
      "text/plain": "       CRIM        ZN     INDUS      CHAS       NOX        RM       AGE  \\\n0 -0.397253  1.412057 -1.126646 -0.256833 -1.027385  0.726354 -1.000164   \n1  0.087846 -0.483615  1.028326 -0.256833  1.371293 -3.817250  0.676891   \n2 -0.395379  1.201427 -0.690066 -0.256833 -0.942023  0.827918 -0.939245   \n3 -0.403759  3.097099 -1.022279 -0.256833 -1.095675  0.351129 -1.480347   \n4 -0.348692 -0.483615 -0.720935 -0.256833 -0.455458  3.467186  0.501302   \n\n        DIS       RAD       TAX   PTRATIO         B     LSTAT  \n0  0.023834 -0.511142 -0.047533 -1.490674  0.415841 -0.836487  \n1 -1.049006  1.675886  1.565287  0.784476 -0.000885 -0.775760  \n2  0.259915 -0.626249 -0.914123 -0.398602  0.448077 -1.347144  \n3  2.364762 -0.626249 -0.330379 -0.262093  0.400521 -0.880652  \n4 -0.417158 -0.165822 -0.595170 -0.489608  0.289557 -1.119419  ",
      "text/html": "<div>\n<style scoped>\n    .dataframe tbody tr th:only-of-type {\n        vertical-align: middle;\n    }\n\n    .dataframe tbody tr th {\n        vertical-align: top;\n    }\n\n    .dataframe thead th {\n        text-align: right;\n    }\n</style>\n<table border=\"1\" class=\"dataframe\">\n  <thead>\n    <tr style=\"text-align: right;\">\n      <th></th>\n      <th>CRIM</th>\n      <th>ZN</th>\n      <th>INDUS</th>\n      <th>CHAS</th>\n      <th>NOX</th>\n      <th>RM</th>\n      <th>AGE</th>\n      <th>DIS</th>\n      <th>RAD</th>\n      <th>TAX</th>\n      <th>PTRATIO</th>\n      <th>B</th>\n      <th>LSTAT</th>\n    </tr>\n  </thead>\n  <tbody>\n    <tr>\n      <th>0</th>\n      <td>-0.397253</td>\n      <td>1.412057</td>\n      <td>-1.126646</td>\n      <td>-0.256833</td>\n      <td>-1.027385</td>\n      <td>0.726354</td>\n      <td>-1.000164</td>\n      <td>0.023834</td>\n      <td>-0.511142</td>\n      <td>-0.047533</td>\n      <td>-1.490674</td>\n      <td>0.415841</td>\n      <td>-0.836487</td>\n    </tr>\n    <tr>\n      <th>1</th>\n      <td>0.087846</td>\n      <td>-0.483615</td>\n      <td>1.028326</td>\n      <td>-0.256833</td>\n      <td>1.371293</td>\n      <td>-3.817250</td>\n      <td>0.676891</td>\n      <td>-1.049006</td>\n      <td>1.675886</td>\n      <td>1.565287</td>\n      <td>0.784476</td>\n      <td>-0.000885</td>\n      <td>-0.775760</td>\n    </tr>\n    <tr>\n      <th>2</th>\n      <td>-0.395379</td>\n      <td>1.201427</td>\n      <td>-0.690066</td>\n      <td>-0.256833</td>\n      <td>-0.942023</td>\n      <td>0.827918</td>\n      <td>-0.939245</td>\n      <td>0.259915</td>\n      <td>-0.626249</td>\n      <td>-0.914123</td>\n      <td>-0.398602</td>\n      <td>0.448077</td>\n      <td>-1.347144</td>\n    </tr>\n    <tr>\n      <th>3</th>\n      <td>-0.403759</td>\n      <td>3.097099</td>\n      <td>-1.022279</td>\n      <td>-0.256833</td>\n      <td>-1.095675</td>\n      <td>0.351129</td>\n      <td>-1.480347</td>\n      <td>2.364762</td>\n      <td>-0.626249</td>\n      <td>-0.330379</td>\n      <td>-0.262093</td>\n      <td>0.400521</td>\n      <td>-0.880652</td>\n    </tr>\n    <tr>\n      <th>4</th>\n      <td>-0.348692</td>\n      <td>-0.483615</td>\n      <td>-0.720935</td>\n      <td>-0.256833</td>\n      <td>-0.455458</td>\n      <td>3.467186</td>\n      <td>0.501302</td>\n      <td>-0.417158</td>\n      <td>-0.165822</td>\n      <td>-0.595170</td>\n      <td>-0.489608</td>\n      <td>0.289557</td>\n      <td>-1.119419</td>\n    </tr>\n  </tbody>\n</table>\n</div>"
     },
     "metadata": {},
     "execution_count": 8
    }
   ],
   "source": [
    "# データセットの前処理後のデータ確認\n",
    "df = pd.DataFrame(train_data, columns=column_names)\n",
    "df.head()"
   ]
  },
  {
   "cell_type": "code",
   "execution_count": 9,
   "metadata": {},
   "outputs": [],
   "source": [
    "# モデルの作成\n",
    "model = Sequential()\n",
    "model.add(Dense(64, activation='relu', input_shape=(13,)))\n",
    "model.add(Dense(64, activation='relu'))\n",
    "model.add(Dense(1))"
   ]
  },
  {
   "cell_type": "code",
   "execution_count": 10,
   "metadata": {},
   "outputs": [],
   "source": [
    "model.compile(loss='mse', optimizer=Adam(lr=0.001), metrics=['mae'])"
   ]
  },
  {
   "cell_type": "code",
   "execution_count": 11,
   "metadata": {},
   "outputs": [],
   "source": [
    "early_stop = EarlyStopping(monitor='val_loss', patience=30)"
   ]
  },
  {
   "cell_type": "code",
   "execution_count": 12,
   "metadata": {
    "tags": [
     "outputPrepend",
     "outputPrepend",
     "outputPrepend",
     "outputPrepend",
     "outputPrepend",
     "outputPrepend",
     "outputPrepend",
     "outputPrepend",
     "outputPrepend",
     "outputPrepend",
     "outputPrepend",
     "outputPrepend",
     "outputPrepend",
     "outputPrepend",
     "outputPrepend",
     "outputPrepend",
     "outputPrepend",
     "outputPrepend",
     "outputPrepend",
     "outputPrepend",
     "outputPrepend",
     "outputPrepend",
     "outputPrepend",
     "outputPrepend",
     "outputPrepend",
     "outputPrepend",
     "outputPrepend",
     "outputPrepend",
     "outputPrepend",
     "outputPrepend",
     "outputPrepend",
     "outputPrepend",
     "outputPrepend",
     "outputPrepend",
     "outputPrepend",
     "outputPrepend",
     "outputPrepend",
     "outputPrepend",
     "outputPrepend",
     "outputPrepend",
     "outputPrepend",
     "outputPrepend",
     "outputPrepend",
     "outputPrepend",
     "outputPrepend",
     "outputPrepend",
     "outputPrepend",
     "outputPrepend",
     "outputPrepend",
     "outputPrepend",
     "outputPrepend",
     "outputPrepend",
     "outputPrepend",
     "outputPrepend",
     "outputPrepend",
     "outputPrepend",
     "outputPrepend",
     "outputPrepend",
     "outputPrepend",
     "outputPrepend",
     "outputPrepend",
     "outputPrepend",
     "outputPrepend",
     "outputPrepend",
     "outputPrepend",
     "outputPrepend",
     "outputPrepend",
     "outputPrepend",
     "outputPrepend",
     "outputPrepend",
     "outputPrepend",
     "outputPrepend",
     "outputPrepend",
     "outputPrepend",
     "outputPrepend",
     "outputPrepend",
     "outputPrepend",
     "outputPrepend",
     "outputPrepend",
     "outputPrepend",
     "outputPrepend",
     "outputPrepend",
     "outputPrepend",
     "outputPrepend",
     "outputPrepend",
     "outputPrepend",
     "outputPrepend",
     "outputPrepend",
     "outputPrepend",
     "outputPrepend",
     "outputPrepend",
     "outputPrepend",
     "outputPrepend",
     "outputPrepend",
     "outputPrepend",
     "outputPrepend",
     "outputPrepend",
     "outputPrepend",
     "outputPrepend",
     "outputPrepend",
     "outputPrepend",
     "outputPrepend",
     "outputPrepend",
     "outputPrepend",
     "outputPrepend",
     "outputPrepend",
     "outputPrepend",
     "outputPrepend",
     "outputPrepend",
     "outputPrepend",
     "outputPrepend",
     "outputPrepend",
     "outputPrepend",
     "outputPrepend",
     "outputPrepend",
     "outputPrepend",
     "outputPrepend",
     "outputPrepend",
     "outputPrepend",
     "outputPrepend",
     "outputPrepend",
     "outputPrepend",
     "outputPrepend",
     "outputPrepend",
     "outputPrepend",
     "outputPrepend",
     "outputPrepend",
     "outputPrepend",
     "outputPrepend",
     "outputPrepend",
     "outputPrepend",
     "outputPrepend",
     "outputPrepend",
     "outputPrepend",
     "outputPrepend",
     "outputPrepend",
     "outputPrepend",
     "outputPrepend",
     "outputPrepend",
     "outputPrepend",
     "outputPrepend",
     "outputPrepend",
     "outputPrepend",
     "outputPrepend",
     "outputPrepend",
     "outputPrepend",
     "outputPrepend",
     "outputPrepend",
     "outputPrepend",
     "outputPrepend",
     "outputPrepend",
     "outputPrepend",
     "outputPrepend",
     "outputPrepend",
     "outputPrepend",
     "outputPrepend",
     "outputPrepend",
     "outputPrepend",
     "outputPrepend",
     "outputPrepend",
     "outputPrepend",
     "outputPrepend",
     "outputPrepend",
     "outputPrepend",
     "outputPrepend",
     "outputPrepend",
     "outputPrepend",
     "outputPrepend",
     "outputPrepend",
     "outputPrepend",
     "outputPrepend",
     "outputPrepend",
     "outputPrepend",
     "outputPrepend",
     "outputPrepend",
     "outputPrepend",
     "outputPrepend",
     "outputPrepend",
     "outputPrepend",
     "outputPrepend",
     "outputPrepend",
     "outputPrepend",
     "outputPrepend",
     "outputPrepend",
     "outputPrepend",
     "outputPrepend",
     "outputPrepend",
     "outputPrepend",
     "outputPrepend",
     "outputPrepend",
     "outputPrepend",
     "outputPrepend",
     "outputPrepend",
     "outputPrepend",
     "outputPrepend",
     "outputPrepend",
     "outputPrepend",
     "outputPrepend",
     "outputPrepend",
     "outputPrepend",
     "outputPrepend",
     "outputPrepend",
     "outputPrepend",
     "outputPrepend",
     "outputPrepend",
     "outputPrepend",
     "outputPrepend",
     "outputPrepend",
     "outputPrepend",
     "outputPrepend",
     "outputPrepend",
     "outputPrepend",
     "outputPrepend",
     "outputPrepend",
     "outputPrepend",
     "outputPrepend",
     "outputPrepend",
     "outputPrepend",
     "outputPrepend",
     "outputPrepend",
     "outputPrepend",
     "outputPrepend",
     "outputPrepend",
     "outputPrepend",
     "outputPrepend",
     "outputPrepend",
     "outputPrepend",
     "outputPrepend",
     "outputPrepend",
     "outputPrepend",
     "outputPrepend",
     "outputPrepend",
     "outputPrepend",
     "outputPrepend",
     "outputPrepend",
     "outputPrepend",
     "outputPrepend",
     "outputPrepend",
     "outputPrepend",
     "outputPrepend",
     "outputPrepend",
     "outputPrepend",
     "outputPrepend",
     "outputPrepend",
     "outputPrepend",
     "outputPrepend",
     "outputPrepend",
     "outputPrepend",
     "outputPrepend",
     "outputPrepend",
     "outputPrepend",
     "outputPrepend",
     "outputPrepend",
     "outputPrepend",
     "outputPrepend",
     "outputPrepend",
     "outputPrepend",
     "outputPrepend",
     "outputPrepend",
     "outputPrepend",
     "outputPrepend",
     "outputPrepend",
     "outputPrepend",
     "outputPrepend",
     "outputPrepend",
     "outputPrepend",
     "outputPrepend",
     "outputPrepend",
     "outputPrepend",
     "outputPrepend",
     "outputPrepend",
     "outputPrepend",
     "outputPrepend",
     "outputPrepend",
     "outputPrepend",
     "outputPrepend",
     "outputPrepend",
     "outputPrepend",
     "outputPrepend",
     "outputPrepend",
     "outputPrepend",
     "outputPrepend",
     "outputPrepend",
     "outputPrepend",
     "outputPrepend",
     "outputPrepend",
     "outputPrepend",
     "outputPrepend",
     "outputPrepend",
     "outputPrepend",
     "outputPrepend",
     "outputPrepend",
     "outputPrepend",
     "outputPrepend",
     "outputPrepend"
    ]
   },
   "outputs": [
    {
     "output_type": "stream",
     "name": "stdout",
     "text": "3 [==============================] - 0s 176us/sample - loss: 5.1584 - mae: 1.6779 - val_loss: 14.3863 - val_mae: 2.5716\nEpoch 137/500\n323/323 [==============================] - 0s 180us/sample - loss: 5.0857 - mae: 1.6740 - val_loss: 14.5050 - val_mae: 2.5919\nEpoch 138/500\n323/323 [==============================] - 0s 192us/sample - loss: 5.0440 - mae: 1.6607 - val_loss: 14.3447 - val_mae: 2.5787\nEpoch 139/500\n323/323 [==============================] - 0s 176us/sample - loss: 5.0081 - mae: 1.6513 - val_loss: 14.3205 - val_mae: 2.5699\nEpoch 140/500\n323/323 [==============================] - 0s 176us/sample - loss: 4.9933 - mae: 1.6433 - val_loss: 14.4796 - val_mae: 2.5788\nEpoch 141/500\n323/323 [==============================] - 0s 176us/sample - loss: 5.1118 - mae: 1.6655 - val_loss: 14.4278 - val_mae: 2.5754\nEpoch 142/500\n323/323 [==============================] - 0s 180us/sample - loss: 4.9864 - mae: 1.6740 - val_loss: 14.4527 - val_mae: 2.5791\nEpoch 143/500\n323/323 [==============================] - 0s 226us/sample - loss: 5.0683 - mae: 1.6756 - val_loss: 13.9786 - val_mae: 2.5277\nEpoch 144/500\n323/323 [==============================] - 0s 170us/sample - loss: 5.0260 - mae: 1.6396 - val_loss: 13.8148 - val_mae: 2.5122\nEpoch 145/500\n323/323 [==============================] - 0s 170us/sample - loss: 4.8633 - mae: 1.6346 - val_loss: 14.1589 - val_mae: 2.5459\nEpoch 146/500\n323/323 [==============================] - 0s 176us/sample - loss: 4.8494 - mae: 1.6342 - val_loss: 14.4063 - val_mae: 2.5527\nEpoch 147/500\n323/323 [==============================] - 0s 170us/sample - loss: 4.7669 - mae: 1.6058 - val_loss: 14.1619 - val_mae: 2.5318\nEpoch 148/500\n323/323 [==============================] - 0s 173us/sample - loss: 4.8582 - mae: 1.6207 - val_loss: 14.1126 - val_mae: 2.5193\nEpoch 149/500\n323/323 [==============================] - 0s 164us/sample - loss: 4.7399 - mae: 1.6229 - val_loss: 14.0937 - val_mae: 2.5133\nEpoch 150/500\n323/323 [==============================] - 0s 164us/sample - loss: 4.6969 - mae: 1.6068 - val_loss: 13.9768 - val_mae: 2.5189\nEpoch 151/500\n323/323 [==============================] - 0s 173us/sample - loss: 4.6851 - mae: 1.6108 - val_loss: 13.8996 - val_mae: 2.4952\nEpoch 152/500\n323/323 [==============================] - 0s 164us/sample - loss: 4.6932 - mae: 1.5868 - val_loss: 13.9575 - val_mae: 2.5071\nEpoch 153/500\n323/323 [==============================] - 0s 167us/sample - loss: 4.5988 - mae: 1.6090 - val_loss: 13.8865 - val_mae: 2.4922\nEpoch 154/500\n323/323 [==============================] - 0s 173us/sample - loss: 4.6748 - mae: 1.6236 - val_loss: 13.5289 - val_mae: 2.4669\nEpoch 155/500\n323/323 [==============================] - 0s 189us/sample - loss: 4.6372 - mae: 1.5999 - val_loss: 14.0954 - val_mae: 2.5355\nEpoch 156/500\n323/323 [==============================] - 0s 192us/sample - loss: 4.7703 - mae: 1.6401 - val_loss: 14.8505 - val_mae: 2.6448\nEpoch 157/500\n323/323 [==============================] - 0s 183us/sample - loss: 4.6191 - mae: 1.5738 - val_loss: 14.5561 - val_mae: 2.5704\nEpoch 158/500\n323/323 [==============================] - 0s 186us/sample - loss: 4.5920 - mae: 1.5928 - val_loss: 13.9075 - val_mae: 2.5362\nEpoch 159/500\n323/323 [==============================] - 0s 183us/sample - loss: 4.5689 - mae: 1.5965 - val_loss: 13.8103 - val_mae: 2.5059\nEpoch 160/500\n323/323 [==============================] - 0s 183us/sample - loss: 4.4511 - mae: 1.5721 - val_loss: 13.8553 - val_mae: 2.5119\nEpoch 161/500\n323/323 [==============================] - 0s 192us/sample - loss: 4.4859 - mae: 1.5636 - val_loss: 14.2064 - val_mae: 2.5248\nEpoch 162/500\n323/323 [==============================] - 0s 180us/sample - loss: 4.4655 - mae: 1.5491 - val_loss: 14.0468 - val_mae: 2.5173\nEpoch 163/500\n323/323 [==============================] - 0s 180us/sample - loss: 4.4659 - mae: 1.5724 - val_loss: 14.1500 - val_mae: 2.5414\nEpoch 164/500\n323/323 [==============================] - 0s 266us/sample - loss: 4.6728 - mae: 1.6416 - val_loss: 14.1499 - val_mae: 2.5643\nEpoch 165/500\n323/323 [==============================] - 0s 186us/sample - loss: 4.3475 - mae: 1.5623 - val_loss: 13.8503 - val_mae: 2.5076\nEpoch 166/500\n323/323 [==============================] - 0s 214us/sample - loss: 4.5264 - mae: 1.6021 - val_loss: 14.5755 - val_mae: 2.6022\nEpoch 167/500\n323/323 [==============================] - 0s 180us/sample - loss: 4.5510 - mae: 1.5935 - val_loss: 14.2228 - val_mae: 2.5402\nEpoch 168/500\n323/323 [==============================] - 0s 161us/sample - loss: 4.4665 - mae: 1.5724 - val_loss: 13.5908 - val_mae: 2.4771\nEpoch 169/500\n323/323 [==============================] - 0s 176us/sample - loss: 5.0896 - mae: 1.6897 - val_loss: 13.3501 - val_mae: 2.5100\nEpoch 170/500\n323/323 [==============================] - 0s 170us/sample - loss: 4.7236 - mae: 1.6059 - val_loss: 13.9090 - val_mae: 2.5245\nEpoch 171/500\n323/323 [==============================] - 0s 173us/sample - loss: 4.5179 - mae: 1.5831 - val_loss: 14.2413 - val_mae: 2.5377\nEpoch 172/500\n323/323 [==============================] - 0s 176us/sample - loss: 4.3517 - mae: 1.5574 - val_loss: 14.5822 - val_mae: 2.5637\nEpoch 173/500\n323/323 [==============================] - 0s 173us/sample - loss: 4.2433 - mae: 1.5326 - val_loss: 14.2602 - val_mae: 2.5332\nEpoch 174/500\n323/323 [==============================] - 0s 173us/sample - loss: 4.1124 - mae: 1.5224 - val_loss: 13.8181 - val_mae: 2.4729\nEpoch 175/500\n323/323 [==============================] - 0s 161us/sample - loss: 4.0758 - mae: 1.5174 - val_loss: 13.9605 - val_mae: 2.4770\nEpoch 176/500\n323/323 [==============================] - 0s 170us/sample - loss: 4.3806 - mae: 1.5739 - val_loss: 13.5751 - val_mae: 2.4179\nEpoch 177/500\n323/323 [==============================] - 0s 170us/sample - loss: 4.1725 - mae: 1.5358 - val_loss: 13.3952 - val_mae: 2.4218\nEpoch 178/500\n323/323 [==============================] - 0s 167us/sample - loss: 4.0987 - mae: 1.5241 - val_loss: 13.4592 - val_mae: 2.4255\nEpoch 179/500\n323/323 [==============================] - 0s 173us/sample - loss: 4.0348 - mae: 1.4995 - val_loss: 13.6007 - val_mae: 2.4378\nEpoch 180/500\n323/323 [==============================] - 0s 167us/sample - loss: 3.9995 - mae: 1.5034 - val_loss: 14.0559 - val_mae: 2.5062\nEpoch 181/500\n323/323 [==============================] - 0s 170us/sample - loss: 3.9482 - mae: 1.4725 - val_loss: 13.4008 - val_mae: 2.3960\nEpoch 182/500\n323/323 [==============================] - 0s 176us/sample - loss: 3.9287 - mae: 1.4727 - val_loss: 13.1558 - val_mae: 2.3755\nEpoch 183/500\n323/323 [==============================] - 0s 170us/sample - loss: 3.8863 - mae: 1.4809 - val_loss: 13.3261 - val_mae: 2.4264\nEpoch 184/500\n323/323 [==============================] - 0s 176us/sample - loss: 4.0316 - mae: 1.5137 - val_loss: 13.1849 - val_mae: 2.4734\nEpoch 185/500\n323/323 [==============================] - 0s 170us/sample - loss: 3.8749 - mae: 1.4698 - val_loss: 13.5830 - val_mae: 2.4945\nEpoch 186/500\n323/323 [==============================] - 0s 170us/sample - loss: 4.0637 - mae: 1.4973 - val_loss: 13.6342 - val_mae: 2.4780\nEpoch 187/500\n323/323 [==============================] - 0s 173us/sample - loss: 3.9043 - mae: 1.4956 - val_loss: 13.3103 - val_mae: 2.4269\nEpoch 188/500\n323/323 [==============================] - 0s 173us/sample - loss: 3.7914 - mae: 1.4743 - val_loss: 13.2269 - val_mae: 2.4153\nEpoch 189/500\n323/323 [==============================] - 0s 173us/sample - loss: 3.8000 - mae: 1.4723 - val_loss: 13.2822 - val_mae: 2.4373\nEpoch 190/500\n323/323 [==============================] - 0s 180us/sample - loss: 3.7687 - mae: 1.4547 - val_loss: 13.5332 - val_mae: 2.4314\nEpoch 191/500\n323/323 [==============================] - 0s 192us/sample - loss: 3.7154 - mae: 1.4355 - val_loss: 13.3965 - val_mae: 2.4061\nEpoch 192/500\n323/323 [==============================] - 0s 180us/sample - loss: 3.7303 - mae: 1.4459 - val_loss: 13.5834 - val_mae: 2.4481\nEpoch 193/500\n323/323 [==============================] - 0s 183us/sample - loss: 3.7193 - mae: 1.4427 - val_loss: 13.2206 - val_mae: 2.3904\nEpoch 194/500\n323/323 [==============================] - 0s 173us/sample - loss: 3.6613 - mae: 1.4311 - val_loss: 12.9525 - val_mae: 2.3568\nEpoch 195/500\n323/323 [==============================] - 0s 173us/sample - loss: 3.8031 - mae: 1.4759 - val_loss: 13.1085 - val_mae: 2.3692\nEpoch 196/500\n323/323 [==============================] - 0s 173us/sample - loss: 3.8885 - mae: 1.5061 - val_loss: 13.1814 - val_mae: 2.3788\nEpoch 197/500\n323/323 [==============================] - 0s 173us/sample - loss: 3.6074 - mae: 1.4154 - val_loss: 13.2263 - val_mae: 2.3835\nEpoch 198/500\n323/323 [==============================] - 0s 173us/sample - loss: 3.5568 - mae: 1.4174 - val_loss: 13.4426 - val_mae: 2.4397\nEpoch 199/500\n323/323 [==============================] - 0s 167us/sample - loss: 3.6365 - mae: 1.4430 - val_loss: 13.4632 - val_mae: 2.4327\nEpoch 200/500\n323/323 [==============================] - 0s 170us/sample - loss: 3.5404 - mae: 1.4091 - val_loss: 13.4057 - val_mae: 2.4260\nEpoch 201/500\n323/323 [==============================] - 0s 164us/sample - loss: 3.5451 - mae: 1.4145 - val_loss: 13.2248 - val_mae: 2.3861\nEpoch 202/500\n323/323 [==============================] - 0s 170us/sample - loss: 3.5314 - mae: 1.4203 - val_loss: 13.1339 - val_mae: 2.3705\nEpoch 203/500\n323/323 [==============================] - 0s 161us/sample - loss: 3.4978 - mae: 1.3991 - val_loss: 13.1899 - val_mae: 2.3664\nEpoch 204/500\n323/323 [==============================] - 0s 164us/sample - loss: 3.6207 - mae: 1.4184 - val_loss: 13.7737 - val_mae: 2.4514\nEpoch 205/500\n323/323 [==============================] - 0s 173us/sample - loss: 3.4754 - mae: 1.3911 - val_loss: 13.3664 - val_mae: 2.4142\nEpoch 206/500\n323/323 [==============================] - 0s 167us/sample - loss: 3.5084 - mae: 1.4179 - val_loss: 13.1745 - val_mae: 2.3880\nEpoch 207/500\n323/323 [==============================] - 0s 164us/sample - loss: 3.4717 - mae: 1.3991 - val_loss: 13.6096 - val_mae: 2.4249\nEpoch 208/500\n323/323 [==============================] - 0s 164us/sample - loss: 3.6632 - mae: 1.4413 - val_loss: 14.1150 - val_mae: 2.4818\nEpoch 209/500\n323/323 [==============================] - 0s 173us/sample - loss: 3.4377 - mae: 1.4065 - val_loss: 13.3963 - val_mae: 2.4240\nEpoch 210/500\n323/323 [==============================] - 0s 180us/sample - loss: 3.4319 - mae: 1.3981 - val_loss: 13.0406 - val_mae: 2.3709\nEpoch 211/500\n323/323 [==============================] - 0s 176us/sample - loss: 3.3659 - mae: 1.3744 - val_loss: 13.0771 - val_mae: 2.4027\nEpoch 212/500\n323/323 [==============================] - 0s 167us/sample - loss: 3.4149 - mae: 1.3887 - val_loss: 12.9029 - val_mae: 2.3828\nEpoch 213/500\n323/323 [==============================] - 0s 167us/sample - loss: 3.3313 - mae: 1.3758 - val_loss: 13.3139 - val_mae: 2.4303\nEpoch 214/500\n323/323 [==============================] - 0s 170us/sample - loss: 3.3259 - mae: 1.3625 - val_loss: 13.5086 - val_mae: 2.4444\nEpoch 215/500\n323/323 [==============================] - 0s 173us/sample - loss: 3.2555 - mae: 1.3555 - val_loss: 13.3385 - val_mae: 2.4176\nEpoch 216/500\n323/323 [==============================] - 0s 170us/sample - loss: 3.3032 - mae: 1.3675 - val_loss: 13.3778 - val_mae: 2.4169\nEpoch 217/500\n323/323 [==============================] - 0s 170us/sample - loss: 3.3134 - mae: 1.3609 - val_loss: 13.1819 - val_mae: 2.3784\nEpoch 218/500\n323/323 [==============================] - 0s 173us/sample - loss: 3.2090 - mae: 1.3401 - val_loss: 13.1782 - val_mae: 2.3811\nEpoch 219/500\n323/323 [==============================] - 0s 170us/sample - loss: 3.1768 - mae: 1.3281 - val_loss: 13.2565 - val_mae: 2.3844\nEpoch 220/500\n323/323 [==============================] - 0s 176us/sample - loss: 3.1621 - mae: 1.3236 - val_loss: 13.4403 - val_mae: 2.4282\nEpoch 221/500\n323/323 [==============================] - 0s 167us/sample - loss: 3.1593 - mae: 1.3428 - val_loss: 13.0547 - val_mae: 2.3716\nEpoch 222/500\n323/323 [==============================] - 0s 173us/sample - loss: 3.1116 - mae: 1.3206 - val_loss: 13.1175 - val_mae: 2.3810\nEpoch 223/500\n323/323 [==============================] - 0s 170us/sample - loss: 3.1229 - mae: 1.3343 - val_loss: 13.0744 - val_mae: 2.3662\nEpoch 224/500\n323/323 [==============================] - 0s 170us/sample - loss: 3.0747 - mae: 1.3081 - val_loss: 13.1116 - val_mae: 2.3862\nEpoch 225/500\n323/323 [==============================] - 0s 173us/sample - loss: 3.1071 - mae: 1.3223 - val_loss: 13.2052 - val_mae: 2.4001\nEpoch 226/500\n323/323 [==============================] - 0s 167us/sample - loss: 3.0831 - mae: 1.3112 - val_loss: 13.1909 - val_mae: 2.3969\nEpoch 227/500\n323/323 [==============================] - 0s 170us/sample - loss: 3.1247 - mae: 1.3367 - val_loss: 12.7639 - val_mae: 2.3352\nEpoch 228/500\n323/323 [==============================] - 0s 176us/sample - loss: 3.0490 - mae: 1.3261 - val_loss: 13.0280 - val_mae: 2.3749\nEpoch 229/500\n323/323 [==============================] - 0s 170us/sample - loss: 3.0619 - mae: 1.2960 - val_loss: 13.2810 - val_mae: 2.3870\nEpoch 230/500\n323/323 [==============================] - 0s 173us/sample - loss: 3.0292 - mae: 1.2926 - val_loss: 12.7434 - val_mae: 2.3242\nEpoch 231/500\n323/323 [==============================] - 0s 170us/sample - loss: 3.0521 - mae: 1.3047 - val_loss: 12.7919 - val_mae: 2.3169\nEpoch 232/500\n323/323 [==============================] - 0s 167us/sample - loss: 3.0371 - mae: 1.3015 - val_loss: 13.0850 - val_mae: 2.3950\nEpoch 233/500\n323/323 [==============================] - 0s 170us/sample - loss: 3.0763 - mae: 1.3288 - val_loss: 13.2498 - val_mae: 2.4230\nEpoch 234/500\n323/323 [==============================] - 0s 189us/sample - loss: 3.0816 - mae: 1.3096 - val_loss: 13.1162 - val_mae: 2.3821\nEpoch 235/500\n323/323 [==============================] - 0s 180us/sample - loss: 2.9701 - mae: 1.2899 - val_loss: 13.1238 - val_mae: 2.3879\nEpoch 236/500\n323/323 [==============================] - 0s 186us/sample - loss: 2.9604 - mae: 1.2854 - val_loss: 13.2818 - val_mae: 2.3964\nEpoch 237/500\n323/323 [==============================] - 0s 186us/sample - loss: 2.9381 - mae: 1.2735 - val_loss: 13.0348 - val_mae: 2.3420\nEpoch 238/500\n323/323 [==============================] - 0s 183us/sample - loss: 2.9108 - mae: 1.2763 - val_loss: 12.9992 - val_mae: 2.3353\nEpoch 239/500\n323/323 [==============================] - 0s 183us/sample - loss: 2.8782 - mae: 1.2715 - val_loss: 12.9157 - val_mae: 2.3280\nEpoch 240/500\n323/323 [==============================] - 0s 186us/sample - loss: 2.9532 - mae: 1.2895 - val_loss: 12.9138 - val_mae: 2.3412\nEpoch 241/500\n323/323 [==============================] - 0s 180us/sample - loss: 3.0478 - mae: 1.3231 - val_loss: 13.0874 - val_mae: 2.3484\nEpoch 242/500\n323/323 [==============================] - 0s 183us/sample - loss: 3.1592 - mae: 1.3069 - val_loss: 13.6944 - val_mae: 2.3968\nEpoch 243/500\n323/323 [==============================] - 0s 183us/sample - loss: 3.0831 - mae: 1.3133 - val_loss: 13.3984 - val_mae: 2.3554\nEpoch 244/500\n323/323 [==============================] - 0s 183us/sample - loss: 3.3552 - mae: 1.3690 - val_loss: 13.3241 - val_mae: 2.3616\nEpoch 245/500\n323/323 [==============================] - 0s 189us/sample - loss: 3.5453 - mae: 1.4560 - val_loss: 13.2226 - val_mae: 2.3527\nEpoch 246/500\n323/323 [==============================] - 0s 186us/sample - loss: 4.0537 - mae: 1.5280 - val_loss: 13.5167 - val_mae: 2.3869\nEpoch 247/500\n323/323 [==============================] - 0s 226us/sample - loss: 4.2875 - mae: 1.5970 - val_loss: 12.7377 - val_mae: 2.2830\nEpoch 248/500\n323/323 [==============================] - 0s 198us/sample - loss: 3.4657 - mae: 1.4097 - val_loss: 12.5504 - val_mae: 2.2524\nEpoch 249/500\n323/323 [==============================] - 0s 186us/sample - loss: 3.0195 - mae: 1.3203 - val_loss: 12.7636 - val_mae: 2.2914\nEpoch 250/500\n323/323 [==============================] - 0s 176us/sample - loss: 2.8571 - mae: 1.2444 - val_loss: 13.2437 - val_mae: 2.3560\nEpoch 251/500\n323/323 [==============================] - 0s 176us/sample - loss: 2.9058 - mae: 1.2542 - val_loss: 13.4752 - val_mae: 2.3731\nEpoch 252/500\n323/323 [==============================] - 0s 180us/sample - loss: 2.9276 - mae: 1.2594 - val_loss: 13.0507 - val_mae: 2.3349\nEpoch 253/500\n323/323 [==============================] - 0s 176us/sample - loss: 2.8239 - mae: 1.2527 - val_loss: 13.0540 - val_mae: 2.2978\nEpoch 254/500\n323/323 [==============================] - 0s 170us/sample - loss: 2.9205 - mae: 1.2994 - val_loss: 12.8421 - val_mae: 2.2949\nEpoch 255/500\n323/323 [==============================] - 0s 167us/sample - loss: 2.8830 - mae: 1.2780 - val_loss: 12.9701 - val_mae: 2.3326\nEpoch 256/500\n323/323 [==============================] - 0s 173us/sample - loss: 3.0584 - mae: 1.3105 - val_loss: 13.1624 - val_mae: 2.3386\nEpoch 257/500\n323/323 [==============================] - 0s 176us/sample - loss: 3.1309 - mae: 1.3469 - val_loss: 12.8230 - val_mae: 2.3137\nEpoch 258/500\n323/323 [==============================] - 0s 173us/sample - loss: 2.8816 - mae: 1.2751 - val_loss: 13.1513 - val_mae: 2.3341\nEpoch 259/500\n323/323 [==============================] - 0s 170us/sample - loss: 2.6713 - mae: 1.2165 - val_loss: 13.2687 - val_mae: 2.3433\nEpoch 260/500\n323/323 [==============================] - 0s 170us/sample - loss: 2.6501 - mae: 1.2179 - val_loss: 12.7627 - val_mae: 2.2957\nEpoch 261/500\n323/323 [==============================] - 0s 173us/sample - loss: 2.7048 - mae: 1.2454 - val_loss: 12.8340 - val_mae: 2.3027\nEpoch 262/500\n323/323 [==============================] - 0s 173us/sample - loss: 2.7623 - mae: 1.2282 - val_loss: 12.8842 - val_mae: 2.3169\nEpoch 263/500\n323/323 [==============================] - 0s 176us/sample - loss: 2.6600 - mae: 1.2166 - val_loss: 12.7289 - val_mae: 2.2845\nEpoch 264/500\n323/323 [==============================] - 0s 170us/sample - loss: 2.6897 - mae: 1.2256 - val_loss: 12.6457 - val_mae: 2.2753\nEpoch 265/500\n323/323 [==============================] - 0s 164us/sample - loss: 2.6469 - mae: 1.2155 - val_loss: 13.2117 - val_mae: 2.3343\nEpoch 266/500\n323/323 [==============================] - 0s 173us/sample - loss: 3.0981 - mae: 1.2876 - val_loss: 13.1142 - val_mae: 2.2935\nEpoch 267/500\n323/323 [==============================] - 0s 173us/sample - loss: 2.7580 - mae: 1.2393 - val_loss: 12.7184 - val_mae: 2.2689\nEpoch 268/500\n323/323 [==============================] - 0s 170us/sample - loss: 2.6911 - mae: 1.2025 - val_loss: 12.8944 - val_mae: 2.3167\nEpoch 269/500\n323/323 [==============================] - 0s 173us/sample - loss: 3.0581 - mae: 1.3309 - val_loss: 13.3399 - val_mae: 2.3588\nEpoch 270/500\n323/323 [==============================] - 0s 167us/sample - loss: 2.9560 - mae: 1.2906 - val_loss: 12.8796 - val_mae: 2.3163\nEpoch 271/500\n323/323 [==============================] - 0s 167us/sample - loss: 2.7777 - mae: 1.2407 - val_loss: 12.7266 - val_mae: 2.2535\nEpoch 272/500\n323/323 [==============================] - 0s 164us/sample - loss: 2.6146 - mae: 1.1955 - val_loss: 12.6784 - val_mae: 2.2518\nEpoch 273/500\n323/323 [==============================] - 0s 170us/sample - loss: 2.6687 - mae: 1.2262 - val_loss: 12.7909 - val_mae: 2.2705\nEpoch 274/500\n323/323 [==============================] - 0s 167us/sample - loss: 3.1985 - mae: 1.3476 - val_loss: 12.7019 - val_mae: 2.2634\nEpoch 275/500\n323/323 [==============================] - 0s 164us/sample - loss: 2.6441 - mae: 1.2541 - val_loss: 13.0066 - val_mae: 2.3354\nEpoch 276/500\n323/323 [==============================] - 0s 170us/sample - loss: 2.5284 - mae: 1.2066 - val_loss: 12.8453 - val_mae: 2.3214\nEpoch 277/500\n323/323 [==============================] - 0s 167us/sample - loss: 3.0775 - mae: 1.3123 - val_loss: 13.1573 - val_mae: 2.3563\nEpoch 278/500\n323/323 [==============================] - 0s 170us/sample - loss: 3.1650 - mae: 1.4151 - val_loss: 13.7595 - val_mae: 2.4254\n"
    }
   ],
   "source": [
    "history = model.fit(train_data, train_labels, epochs=500, validation_split=0.2, callbacks=[early_stop])"
   ]
  },
  {
   "cell_type": "code",
   "execution_count": 13,
   "metadata": {},
   "outputs": [
    {
     "output_type": "stream",
     "name": "stdout",
     "text": "dict_keys(['loss', 'mae', 'val_loss', 'val_mae'])\n"
    },
    {
     "output_type": "display_data",
     "data": {
      "text/plain": "<Figure size 432x288 with 1 Axes>",
      "image/svg+xml": "<?xml version=\"1.0\" encoding=\"utf-8\" standalone=\"no\"?>\r\n<!DOCTYPE svg PUBLIC \"-//W3C//DTD SVG 1.1//EN\"\r\n  \"http://www.w3.org/Graphics/SVG/1.1/DTD/svg11.dtd\">\r\n<!-- Created with matplotlib (https://matplotlib.org/) -->\r\n<svg height=\"265.995469pt\" version=\"1.1\" viewBox=\"0 0 376.240625 265.995469\" width=\"376.240625pt\" xmlns=\"http://www.w3.org/2000/svg\" xmlns:xlink=\"http://www.w3.org/1999/xlink\">\r\n <defs>\r\n  <style type=\"text/css\">\r\n*{stroke-linecap:butt;stroke-linejoin:round;}\r\n  </style>\r\n </defs>\r\n <g id=\"figure_1\">\r\n  <g id=\"patch_1\">\r\n   <path d=\"M 0 265.995469 \r\nL 376.240625 265.995469 \r\nL 376.240625 0 \r\nL 0 0 \r\nz\r\n\" style=\"fill:none;\"/>\r\n  </g>\r\n  <g id=\"axes_1\">\r\n   <g id=\"patch_2\">\r\n    <path d=\"M 34.240625 228.439219 \r\nL 369.040625 228.439219 \r\nL 369.040625 10.999219 \r\nL 34.240625 10.999219 \r\nz\r\n\" style=\"fill:#ffffff;\"/>\r\n   </g>\r\n   <g id=\"matplotlib.axis_1\">\r\n    <g id=\"xtick_1\">\r\n     <g id=\"line2d_1\">\r\n      <defs>\r\n       <path d=\"M 0 0 \r\nL 0 3.5 \r\n\" id=\"mc9bcc1335a\" style=\"stroke:#000000;stroke-width:0.8;\"/>\r\n      </defs>\r\n      <g>\r\n       <use style=\"stroke:#000000;stroke-width:0.8;\" x=\"49.458807\" xlink:href=\"#mc9bcc1335a\" y=\"228.439219\"/>\r\n      </g>\r\n     </g>\r\n     <g id=\"text_1\">\r\n      <!-- 0 -->\r\n      <defs>\r\n       <path d=\"M 31.78125 66.40625 \r\nQ 24.171875 66.40625 20.328125 58.90625 \r\nQ 16.5 51.421875 16.5 36.375 \r\nQ 16.5 21.390625 20.328125 13.890625 \r\nQ 24.171875 6.390625 31.78125 6.390625 \r\nQ 39.453125 6.390625 43.28125 13.890625 \r\nQ 47.125 21.390625 47.125 36.375 \r\nQ 47.125 51.421875 43.28125 58.90625 \r\nQ 39.453125 66.40625 31.78125 66.40625 \r\nz\r\nM 31.78125 74.21875 \r\nQ 44.046875 74.21875 50.515625 64.515625 \r\nQ 56.984375 54.828125 56.984375 36.375 \r\nQ 56.984375 17.96875 50.515625 8.265625 \r\nQ 44.046875 -1.421875 31.78125 -1.421875 \r\nQ 19.53125 -1.421875 13.0625 8.265625 \r\nQ 6.59375 17.96875 6.59375 36.375 \r\nQ 6.59375 54.828125 13.0625 64.515625 \r\nQ 19.53125 74.21875 31.78125 74.21875 \r\nz\r\n\" id=\"DejaVuSans-48\"/>\r\n      </defs>\r\n      <g transform=\"translate(46.277557 243.037656)scale(0.1 -0.1)\">\r\n       <use xlink:href=\"#DejaVuSans-48\"/>\r\n      </g>\r\n     </g>\r\n    </g>\r\n    <g id=\"xtick_2\">\r\n     <g id=\"line2d_2\">\r\n      <g>\r\n       <use style=\"stroke:#000000;stroke-width:0.8;\" x=\"104.398091\" xlink:href=\"#mc9bcc1335a\" y=\"228.439219\"/>\r\n      </g>\r\n     </g>\r\n     <g id=\"text_2\">\r\n      <!-- 50 -->\r\n      <defs>\r\n       <path d=\"M 10.796875 72.90625 \r\nL 49.515625 72.90625 \r\nL 49.515625 64.59375 \r\nL 19.828125 64.59375 \r\nL 19.828125 46.734375 \r\nQ 21.96875 47.46875 24.109375 47.828125 \r\nQ 26.265625 48.1875 28.421875 48.1875 \r\nQ 40.625 48.1875 47.75 41.5 \r\nQ 54.890625 34.8125 54.890625 23.390625 \r\nQ 54.890625 11.625 47.5625 5.09375 \r\nQ 40.234375 -1.421875 26.90625 -1.421875 \r\nQ 22.3125 -1.421875 17.546875 -0.640625 \r\nQ 12.796875 0.140625 7.71875 1.703125 \r\nL 7.71875 11.625 \r\nQ 12.109375 9.234375 16.796875 8.0625 \r\nQ 21.484375 6.890625 26.703125 6.890625 \r\nQ 35.15625 6.890625 40.078125 11.328125 \r\nQ 45.015625 15.765625 45.015625 23.390625 \r\nQ 45.015625 31 40.078125 35.4375 \r\nQ 35.15625 39.890625 26.703125 39.890625 \r\nQ 22.75 39.890625 18.8125 39.015625 \r\nQ 14.890625 38.140625 10.796875 36.28125 \r\nz\r\n\" id=\"DejaVuSans-53\"/>\r\n      </defs>\r\n      <g transform=\"translate(98.035591 243.037656)scale(0.1 -0.1)\">\r\n       <use xlink:href=\"#DejaVuSans-53\"/>\r\n       <use x=\"63.623047\" xlink:href=\"#DejaVuSans-48\"/>\r\n      </g>\r\n     </g>\r\n    </g>\r\n    <g id=\"xtick_3\">\r\n     <g id=\"line2d_3\">\r\n      <g>\r\n       <use style=\"stroke:#000000;stroke-width:0.8;\" x=\"159.337376\" xlink:href=\"#mc9bcc1335a\" y=\"228.439219\"/>\r\n      </g>\r\n     </g>\r\n     <g id=\"text_3\">\r\n      <!-- 100 -->\r\n      <defs>\r\n       <path d=\"M 12.40625 8.296875 \r\nL 28.515625 8.296875 \r\nL 28.515625 63.921875 \r\nL 10.984375 60.40625 \r\nL 10.984375 69.390625 \r\nL 28.421875 72.90625 \r\nL 38.28125 72.90625 \r\nL 38.28125 8.296875 \r\nL 54.390625 8.296875 \r\nL 54.390625 0 \r\nL 12.40625 0 \r\nz\r\n\" id=\"DejaVuSans-49\"/>\r\n      </defs>\r\n      <g transform=\"translate(149.793626 243.037656)scale(0.1 -0.1)\">\r\n       <use xlink:href=\"#DejaVuSans-49\"/>\r\n       <use x=\"63.623047\" xlink:href=\"#DejaVuSans-48\"/>\r\n       <use x=\"127.246094\" xlink:href=\"#DejaVuSans-48\"/>\r\n      </g>\r\n     </g>\r\n    </g>\r\n    <g id=\"xtick_4\">\r\n     <g id=\"line2d_4\">\r\n      <g>\r\n       <use style=\"stroke:#000000;stroke-width:0.8;\" x=\"214.27666\" xlink:href=\"#mc9bcc1335a\" y=\"228.439219\"/>\r\n      </g>\r\n     </g>\r\n     <g id=\"text_4\">\r\n      <!-- 150 -->\r\n      <g transform=\"translate(204.73291 243.037656)scale(0.1 -0.1)\">\r\n       <use xlink:href=\"#DejaVuSans-49\"/>\r\n       <use x=\"63.623047\" xlink:href=\"#DejaVuSans-53\"/>\r\n       <use x=\"127.246094\" xlink:href=\"#DejaVuSans-48\"/>\r\n      </g>\r\n     </g>\r\n    </g>\r\n    <g id=\"xtick_5\">\r\n     <g id=\"line2d_5\">\r\n      <g>\r\n       <use style=\"stroke:#000000;stroke-width:0.8;\" x=\"269.215945\" xlink:href=\"#mc9bcc1335a\" y=\"228.439219\"/>\r\n      </g>\r\n     </g>\r\n     <g id=\"text_5\">\r\n      <!-- 200 -->\r\n      <defs>\r\n       <path d=\"M 19.1875 8.296875 \r\nL 53.609375 8.296875 \r\nL 53.609375 0 \r\nL 7.328125 0 \r\nL 7.328125 8.296875 \r\nQ 12.9375 14.109375 22.625 23.890625 \r\nQ 32.328125 33.6875 34.8125 36.53125 \r\nQ 39.546875 41.84375 41.421875 45.53125 \r\nQ 43.3125 49.21875 43.3125 52.78125 \r\nQ 43.3125 58.59375 39.234375 62.25 \r\nQ 35.15625 65.921875 28.609375 65.921875 \r\nQ 23.96875 65.921875 18.8125 64.3125 \r\nQ 13.671875 62.703125 7.8125 59.421875 \r\nL 7.8125 69.390625 \r\nQ 13.765625 71.78125 18.9375 73 \r\nQ 24.125 74.21875 28.421875 74.21875 \r\nQ 39.75 74.21875 46.484375 68.546875 \r\nQ 53.21875 62.890625 53.21875 53.421875 \r\nQ 53.21875 48.921875 51.53125 44.890625 \r\nQ 49.859375 40.875 45.40625 35.40625 \r\nQ 44.1875 33.984375 37.640625 27.21875 \r\nQ 31.109375 20.453125 19.1875 8.296875 \r\nz\r\n\" id=\"DejaVuSans-50\"/>\r\n      </defs>\r\n      <g transform=\"translate(259.672195 243.037656)scale(0.1 -0.1)\">\r\n       <use xlink:href=\"#DejaVuSans-50\"/>\r\n       <use x=\"63.623047\" xlink:href=\"#DejaVuSans-48\"/>\r\n       <use x=\"127.246094\" xlink:href=\"#DejaVuSans-48\"/>\r\n      </g>\r\n     </g>\r\n    </g>\r\n    <g id=\"xtick_6\">\r\n     <g id=\"line2d_6\">\r\n      <g>\r\n       <use style=\"stroke:#000000;stroke-width:0.8;\" x=\"324.15523\" xlink:href=\"#mc9bcc1335a\" y=\"228.439219\"/>\r\n      </g>\r\n     </g>\r\n     <g id=\"text_6\">\r\n      <!-- 250 -->\r\n      <g transform=\"translate(314.61148 243.037656)scale(0.1 -0.1)\">\r\n       <use xlink:href=\"#DejaVuSans-50\"/>\r\n       <use x=\"63.623047\" xlink:href=\"#DejaVuSans-53\"/>\r\n       <use x=\"127.246094\" xlink:href=\"#DejaVuSans-48\"/>\r\n      </g>\r\n     </g>\r\n    </g>\r\n    <g id=\"text_7\">\r\n     <!-- epoch -->\r\n     <defs>\r\n      <path d=\"M 56.203125 29.59375 \r\nL 56.203125 25.203125 \r\nL 14.890625 25.203125 \r\nQ 15.484375 15.921875 20.484375 11.0625 \r\nQ 25.484375 6.203125 34.421875 6.203125 \r\nQ 39.59375 6.203125 44.453125 7.46875 \r\nQ 49.3125 8.734375 54.109375 11.28125 \r\nL 54.109375 2.78125 \r\nQ 49.265625 0.734375 44.1875 -0.34375 \r\nQ 39.109375 -1.421875 33.890625 -1.421875 \r\nQ 20.796875 -1.421875 13.15625 6.1875 \r\nQ 5.515625 13.8125 5.515625 26.8125 \r\nQ 5.515625 40.234375 12.765625 48.109375 \r\nQ 20.015625 56 32.328125 56 \r\nQ 43.359375 56 49.78125 48.890625 \r\nQ 56.203125 41.796875 56.203125 29.59375 \r\nz\r\nM 47.21875 32.234375 \r\nQ 47.125 39.59375 43.09375 43.984375 \r\nQ 39.0625 48.390625 32.421875 48.390625 \r\nQ 24.90625 48.390625 20.390625 44.140625 \r\nQ 15.875 39.890625 15.1875 32.171875 \r\nz\r\n\" id=\"DejaVuSans-101\"/>\r\n      <path d=\"M 18.109375 8.203125 \r\nL 18.109375 -20.796875 \r\nL 9.078125 -20.796875 \r\nL 9.078125 54.6875 \r\nL 18.109375 54.6875 \r\nL 18.109375 46.390625 \r\nQ 20.953125 51.265625 25.265625 53.625 \r\nQ 29.59375 56 35.59375 56 \r\nQ 45.5625 56 51.78125 48.09375 \r\nQ 58.015625 40.1875 58.015625 27.296875 \r\nQ 58.015625 14.40625 51.78125 6.484375 \r\nQ 45.5625 -1.421875 35.59375 -1.421875 \r\nQ 29.59375 -1.421875 25.265625 0.953125 \r\nQ 20.953125 3.328125 18.109375 8.203125 \r\nz\r\nM 48.6875 27.296875 \r\nQ 48.6875 37.203125 44.609375 42.84375 \r\nQ 40.53125 48.484375 33.40625 48.484375 \r\nQ 26.265625 48.484375 22.1875 42.84375 \r\nQ 18.109375 37.203125 18.109375 27.296875 \r\nQ 18.109375 17.390625 22.1875 11.75 \r\nQ 26.265625 6.109375 33.40625 6.109375 \r\nQ 40.53125 6.109375 44.609375 11.75 \r\nQ 48.6875 17.390625 48.6875 27.296875 \r\nz\r\n\" id=\"DejaVuSans-112\"/>\r\n      <path d=\"M 30.609375 48.390625 \r\nQ 23.390625 48.390625 19.1875 42.75 \r\nQ 14.984375 37.109375 14.984375 27.296875 \r\nQ 14.984375 17.484375 19.15625 11.84375 \r\nQ 23.34375 6.203125 30.609375 6.203125 \r\nQ 37.796875 6.203125 41.984375 11.859375 \r\nQ 46.1875 17.53125 46.1875 27.296875 \r\nQ 46.1875 37.015625 41.984375 42.703125 \r\nQ 37.796875 48.390625 30.609375 48.390625 \r\nz\r\nM 30.609375 56 \r\nQ 42.328125 56 49.015625 48.375 \r\nQ 55.71875 40.765625 55.71875 27.296875 \r\nQ 55.71875 13.875 49.015625 6.21875 \r\nQ 42.328125 -1.421875 30.609375 -1.421875 \r\nQ 18.84375 -1.421875 12.171875 6.21875 \r\nQ 5.515625 13.875 5.515625 27.296875 \r\nQ 5.515625 40.765625 12.171875 48.375 \r\nQ 18.84375 56 30.609375 56 \r\nz\r\n\" id=\"DejaVuSans-111\"/>\r\n      <path d=\"M 48.78125 52.59375 \r\nL 48.78125 44.1875 \r\nQ 44.96875 46.296875 41.140625 47.34375 \r\nQ 37.3125 48.390625 33.40625 48.390625 \r\nQ 24.65625 48.390625 19.8125 42.84375 \r\nQ 14.984375 37.3125 14.984375 27.296875 \r\nQ 14.984375 17.28125 19.8125 11.734375 \r\nQ 24.65625 6.203125 33.40625 6.203125 \r\nQ 37.3125 6.203125 41.140625 7.25 \r\nQ 44.96875 8.296875 48.78125 10.40625 \r\nL 48.78125 2.09375 \r\nQ 45.015625 0.34375 40.984375 -0.53125 \r\nQ 36.96875 -1.421875 32.421875 -1.421875 \r\nQ 20.0625 -1.421875 12.78125 6.34375 \r\nQ 5.515625 14.109375 5.515625 27.296875 \r\nQ 5.515625 40.671875 12.859375 48.328125 \r\nQ 20.21875 56 33.015625 56 \r\nQ 37.15625 56 41.109375 55.140625 \r\nQ 45.0625 54.296875 48.78125 52.59375 \r\nz\r\n\" id=\"DejaVuSans-99\"/>\r\n      <path d=\"M 54.890625 33.015625 \r\nL 54.890625 0 \r\nL 45.90625 0 \r\nL 45.90625 32.71875 \r\nQ 45.90625 40.484375 42.875 44.328125 \r\nQ 39.84375 48.1875 33.796875 48.1875 \r\nQ 26.515625 48.1875 22.3125 43.546875 \r\nQ 18.109375 38.921875 18.109375 30.90625 \r\nL 18.109375 0 \r\nL 9.078125 0 \r\nL 9.078125 75.984375 \r\nL 18.109375 75.984375 \r\nL 18.109375 46.1875 \r\nQ 21.34375 51.125 25.703125 53.5625 \r\nQ 30.078125 56 35.796875 56 \r\nQ 45.21875 56 50.046875 50.171875 \r\nQ 54.890625 44.34375 54.890625 33.015625 \r\nz\r\n\" id=\"DejaVuSans-104\"/>\r\n     </defs>\r\n     <g transform=\"translate(186.4125 256.715781)scale(0.1 -0.1)\">\r\n      <use xlink:href=\"#DejaVuSans-101\"/>\r\n      <use x=\"61.523438\" xlink:href=\"#DejaVuSans-112\"/>\r\n      <use x=\"125\" xlink:href=\"#DejaVuSans-111\"/>\r\n      <use x=\"186.181641\" xlink:href=\"#DejaVuSans-99\"/>\r\n      <use x=\"241.162109\" xlink:href=\"#DejaVuSans-104\"/>\r\n     </g>\r\n    </g>\r\n   </g>\r\n   <g id=\"matplotlib.axis_2\">\r\n    <g id=\"ytick_1\">\r\n     <g id=\"line2d_7\">\r\n      <defs>\r\n       <path d=\"M 0 0 \r\nL -3.5 0 \r\n\" id=\"me2f5071f06\" style=\"stroke:#000000;stroke-width:0.8;\"/>\r\n      </defs>\r\n      <g>\r\n       <use style=\"stroke:#000000;stroke-width:0.8;\" x=\"34.240625\" xlink:href=\"#me2f5071f06\" y=\"228.439219\"/>\r\n      </g>\r\n     </g>\r\n     <g id=\"text_8\">\r\n      <!-- 0 -->\r\n      <g transform=\"translate(20.878125 232.238437)scale(0.1 -0.1)\">\r\n       <use xlink:href=\"#DejaVuSans-48\"/>\r\n      </g>\r\n     </g>\r\n    </g>\r\n    <g id=\"ytick_2\">\r\n     <g id=\"line2d_8\">\r\n      <g>\r\n       <use style=\"stroke:#000000;stroke-width:0.8;\" x=\"34.240625\" xlink:href=\"#me2f5071f06\" y=\"184.951219\"/>\r\n      </g>\r\n     </g>\r\n     <g id=\"text_9\">\r\n      <!-- 1 -->\r\n      <g transform=\"translate(20.878125 188.750437)scale(0.1 -0.1)\">\r\n       <use xlink:href=\"#DejaVuSans-49\"/>\r\n      </g>\r\n     </g>\r\n    </g>\r\n    <g id=\"ytick_3\">\r\n     <g id=\"line2d_9\">\r\n      <g>\r\n       <use style=\"stroke:#000000;stroke-width:0.8;\" x=\"34.240625\" xlink:href=\"#me2f5071f06\" y=\"141.463219\"/>\r\n      </g>\r\n     </g>\r\n     <g id=\"text_10\">\r\n      <!-- 2 -->\r\n      <g transform=\"translate(20.878125 145.262437)scale(0.1 -0.1)\">\r\n       <use xlink:href=\"#DejaVuSans-50\"/>\r\n      </g>\r\n     </g>\r\n    </g>\r\n    <g id=\"ytick_4\">\r\n     <g id=\"line2d_10\">\r\n      <g>\r\n       <use style=\"stroke:#000000;stroke-width:0.8;\" x=\"34.240625\" xlink:href=\"#me2f5071f06\" y=\"97.975219\"/>\r\n      </g>\r\n     </g>\r\n     <g id=\"text_11\">\r\n      <!-- 3 -->\r\n      <defs>\r\n       <path d=\"M 40.578125 39.3125 \r\nQ 47.65625 37.796875 51.625 33 \r\nQ 55.609375 28.21875 55.609375 21.1875 \r\nQ 55.609375 10.40625 48.1875 4.484375 \r\nQ 40.765625 -1.421875 27.09375 -1.421875 \r\nQ 22.515625 -1.421875 17.65625 -0.515625 \r\nQ 12.796875 0.390625 7.625 2.203125 \r\nL 7.625 11.71875 \r\nQ 11.71875 9.328125 16.59375 8.109375 \r\nQ 21.484375 6.890625 26.8125 6.890625 \r\nQ 36.078125 6.890625 40.9375 10.546875 \r\nQ 45.796875 14.203125 45.796875 21.1875 \r\nQ 45.796875 27.640625 41.28125 31.265625 \r\nQ 36.765625 34.90625 28.71875 34.90625 \r\nL 20.21875 34.90625 \r\nL 20.21875 43.015625 \r\nL 29.109375 43.015625 \r\nQ 36.375 43.015625 40.234375 45.921875 \r\nQ 44.09375 48.828125 44.09375 54.296875 \r\nQ 44.09375 59.90625 40.109375 62.90625 \r\nQ 36.140625 65.921875 28.71875 65.921875 \r\nQ 24.65625 65.921875 20.015625 65.03125 \r\nQ 15.375 64.15625 9.8125 62.3125 \r\nL 9.8125 71.09375 \r\nQ 15.4375 72.65625 20.34375 73.4375 \r\nQ 25.25 74.21875 29.59375 74.21875 \r\nQ 40.828125 74.21875 47.359375 69.109375 \r\nQ 53.90625 64.015625 53.90625 55.328125 \r\nQ 53.90625 49.265625 50.4375 45.09375 \r\nQ 46.96875 40.921875 40.578125 39.3125 \r\nz\r\n\" id=\"DejaVuSans-51\"/>\r\n      </defs>\r\n      <g transform=\"translate(20.878125 101.774437)scale(0.1 -0.1)\">\r\n       <use xlink:href=\"#DejaVuSans-51\"/>\r\n      </g>\r\n     </g>\r\n    </g>\r\n    <g id=\"ytick_5\">\r\n     <g id=\"line2d_11\">\r\n      <g>\r\n       <use style=\"stroke:#000000;stroke-width:0.8;\" x=\"34.240625\" xlink:href=\"#me2f5071f06\" y=\"54.487219\"/>\r\n      </g>\r\n     </g>\r\n     <g id=\"text_12\">\r\n      <!-- 4 -->\r\n      <defs>\r\n       <path d=\"M 37.796875 64.3125 \r\nL 12.890625 25.390625 \r\nL 37.796875 25.390625 \r\nz\r\nM 35.203125 72.90625 \r\nL 47.609375 72.90625 \r\nL 47.609375 25.390625 \r\nL 58.015625 25.390625 \r\nL 58.015625 17.1875 \r\nL 47.609375 17.1875 \r\nL 47.609375 0 \r\nL 37.796875 0 \r\nL 37.796875 17.1875 \r\nL 4.890625 17.1875 \r\nL 4.890625 26.703125 \r\nz\r\n\" id=\"DejaVuSans-52\"/>\r\n      </defs>\r\n      <g transform=\"translate(20.878125 58.286437)scale(0.1 -0.1)\">\r\n       <use xlink:href=\"#DejaVuSans-52\"/>\r\n      </g>\r\n     </g>\r\n    </g>\r\n    <g id=\"ytick_6\">\r\n     <g id=\"line2d_12\">\r\n      <g>\r\n       <use style=\"stroke:#000000;stroke-width:0.8;\" x=\"34.240625\" xlink:href=\"#me2f5071f06\" y=\"10.999219\"/>\r\n      </g>\r\n     </g>\r\n     <g id=\"text_13\">\r\n      <!-- 5 -->\r\n      <g transform=\"translate(20.878125 14.798437)scale(0.1 -0.1)\">\r\n       <use xlink:href=\"#DejaVuSans-53\"/>\r\n      </g>\r\n     </g>\r\n    </g>\r\n    <g id=\"text_14\">\r\n     <!-- mae [1000$] -->\r\n     <defs>\r\n      <path d=\"M 52 44.1875 \r\nQ 55.375 50.25 60.0625 53.125 \r\nQ 64.75 56 71.09375 56 \r\nQ 79.640625 56 84.28125 50.015625 \r\nQ 88.921875 44.046875 88.921875 33.015625 \r\nL 88.921875 0 \r\nL 79.890625 0 \r\nL 79.890625 32.71875 \r\nQ 79.890625 40.578125 77.09375 44.375 \r\nQ 74.3125 48.1875 68.609375 48.1875 \r\nQ 61.625 48.1875 57.5625 43.546875 \r\nQ 53.515625 38.921875 53.515625 30.90625 \r\nL 53.515625 0 \r\nL 44.484375 0 \r\nL 44.484375 32.71875 \r\nQ 44.484375 40.625 41.703125 44.40625 \r\nQ 38.921875 48.1875 33.109375 48.1875 \r\nQ 26.21875 48.1875 22.15625 43.53125 \r\nQ 18.109375 38.875 18.109375 30.90625 \r\nL 18.109375 0 \r\nL 9.078125 0 \r\nL 9.078125 54.6875 \r\nL 18.109375 54.6875 \r\nL 18.109375 46.1875 \r\nQ 21.1875 51.21875 25.484375 53.609375 \r\nQ 29.78125 56 35.6875 56 \r\nQ 41.65625 56 45.828125 52.96875 \r\nQ 50 49.953125 52 44.1875 \r\nz\r\n\" id=\"DejaVuSans-109\"/>\r\n      <path d=\"M 34.28125 27.484375 \r\nQ 23.390625 27.484375 19.1875 25 \r\nQ 14.984375 22.515625 14.984375 16.5 \r\nQ 14.984375 11.71875 18.140625 8.90625 \r\nQ 21.296875 6.109375 26.703125 6.109375 \r\nQ 34.1875 6.109375 38.703125 11.40625 \r\nQ 43.21875 16.703125 43.21875 25.484375 \r\nL 43.21875 27.484375 \r\nz\r\nM 52.203125 31.203125 \r\nL 52.203125 0 \r\nL 43.21875 0 \r\nL 43.21875 8.296875 \r\nQ 40.140625 3.328125 35.546875 0.953125 \r\nQ 30.953125 -1.421875 24.3125 -1.421875 \r\nQ 15.921875 -1.421875 10.953125 3.296875 \r\nQ 6 8.015625 6 15.921875 \r\nQ 6 25.140625 12.171875 29.828125 \r\nQ 18.359375 34.515625 30.609375 34.515625 \r\nL 43.21875 34.515625 \r\nL 43.21875 35.40625 \r\nQ 43.21875 41.609375 39.140625 45 \r\nQ 35.0625 48.390625 27.6875 48.390625 \r\nQ 23 48.390625 18.546875 47.265625 \r\nQ 14.109375 46.140625 10.015625 43.890625 \r\nL 10.015625 52.203125 \r\nQ 14.9375 54.109375 19.578125 55.046875 \r\nQ 24.21875 56 28.609375 56 \r\nQ 40.484375 56 46.34375 49.84375 \r\nQ 52.203125 43.703125 52.203125 31.203125 \r\nz\r\n\" id=\"DejaVuSans-97\"/>\r\n      <path id=\"DejaVuSans-32\"/>\r\n      <path d=\"M 8.59375 75.984375 \r\nL 29.296875 75.984375 \r\nL 29.296875 69 \r\nL 17.578125 69 \r\nL 17.578125 -6.203125 \r\nL 29.296875 -6.203125 \r\nL 29.296875 -13.1875 \r\nL 8.59375 -13.1875 \r\nz\r\n\" id=\"DejaVuSans-91\"/>\r\n      <path d=\"M 33.796875 -14.703125 \r\nL 28.90625 -14.703125 \r\nL 28.859375 0 \r\nQ 23.734375 0.09375 18.609375 1.1875 \r\nQ 13.484375 2.296875 8.296875 4.5 \r\nL 8.296875 13.28125 \r\nQ 13.28125 10.15625 18.375 8.5625 \r\nQ 23.484375 6.984375 28.90625 6.9375 \r\nL 28.90625 29.203125 \r\nQ 18.109375 30.953125 13.203125 35.15625 \r\nQ 8.296875 39.359375 8.296875 46.6875 \r\nQ 8.296875 54.640625 13.625 59.21875 \r\nQ 18.953125 63.8125 28.90625 64.5 \r\nL 28.90625 75.984375 \r\nL 33.796875 75.984375 \r\nL 33.796875 64.65625 \r\nQ 38.328125 64.453125 42.578125 63.6875 \r\nQ 46.828125 62.9375 50.875 61.625 \r\nL 50.875 53.078125 \r\nQ 46.828125 55.125 42.546875 56.25 \r\nQ 38.28125 57.375 33.796875 57.5625 \r\nL 33.796875 36.71875 \r\nQ 44.875 35.015625 50.09375 30.609375 \r\nQ 55.328125 26.21875 55.328125 18.609375 \r\nQ 55.328125 10.359375 49.78125 5.59375 \r\nQ 44.234375 0.828125 33.796875 0.09375 \r\nz\r\nM 28.90625 37.59375 \r\nL 28.90625 57.625 \r\nQ 23.25 56.984375 20.265625 54.390625 \r\nQ 17.28125 51.8125 17.28125 47.515625 \r\nQ 17.28125 43.3125 20.03125 40.96875 \r\nQ 22.796875 38.625 28.90625 37.59375 \r\nz\r\nM 33.796875 28.21875 \r\nL 33.796875 7.078125 \r\nQ 39.984375 7.90625 43.140625 10.59375 \r\nQ 46.296875 13.28125 46.296875 17.671875 \r\nQ 46.296875 21.96875 43.28125 24.5 \r\nQ 40.28125 27.046875 33.796875 28.21875 \r\nz\r\n\" id=\"DejaVuSans-36\"/>\r\n      <path d=\"M 30.421875 75.984375 \r\nL 30.421875 -13.1875 \r\nL 9.71875 -13.1875 \r\nL 9.71875 -6.203125 \r\nL 21.390625 -6.203125 \r\nL 21.390625 69 \r\nL 9.71875 69 \r\nL 9.71875 75.984375 \r\nz\r\n\" id=\"DejaVuSans-93\"/>\r\n     </defs>\r\n     <g transform=\"translate(14.798437 152.127031)rotate(-90)scale(0.1 -0.1)\">\r\n      <use xlink:href=\"#DejaVuSans-109\"/>\r\n      <use x=\"97.412109\" xlink:href=\"#DejaVuSans-97\"/>\r\n      <use x=\"158.691406\" xlink:href=\"#DejaVuSans-101\"/>\r\n      <use x=\"220.214844\" xlink:href=\"#DejaVuSans-32\"/>\r\n      <use x=\"252.001953\" xlink:href=\"#DejaVuSans-91\"/>\r\n      <use x=\"291.015625\" xlink:href=\"#DejaVuSans-49\"/>\r\n      <use x=\"354.638672\" xlink:href=\"#DejaVuSans-48\"/>\r\n      <use x=\"418.261719\" xlink:href=\"#DejaVuSans-48\"/>\r\n      <use x=\"481.884766\" xlink:href=\"#DejaVuSans-48\"/>\r\n      <use x=\"545.507812\" xlink:href=\"#DejaVuSans-36\"/>\r\n      <use x=\"609.130859\" xlink:href=\"#DejaVuSans-93\"/>\r\n     </g>\r\n    </g>\r\n   </g>\r\n   <g id=\"line2d_13\">\r\n    <path clip-path=\"url(#pbb23a49c58)\" d=\"M 58.37889 -1 \r\nL 59.347878 19.97997 \r\nL 60.446664 40.531652 \r\nL 61.545449 53.9896 \r\nL 62.644235 62.685823 \r\nL 63.743021 69.407291 \r\nL 65.940592 78.570121 \r\nL 67.039378 83.050481 \r\nL 68.138164 85.988725 \r\nL 70.335735 94.214992 \r\nL 73.632092 101.079554 \r\nL 74.730878 104.100299 \r\nL 76.928449 109.418525 \r\nL 78.027235 111.155182 \r\nL 79.12602 113.3642 \r\nL 82.422378 118.672638 \r\nL 84.619949 119.269554 \r\nL 85.718735 120.907618 \r\nL 86.81752 123.819257 \r\nL 87.916306 124.453085 \r\nL 89.015092 124.868399 \r\nL 91.212663 126.872196 \r\nL 92.311449 128.160215 \r\nL 93.410234 128.577416 \r\nL 94.50902 129.211078 \r\nL 95.607806 128.868404 \r\nL 96.706592 128.93641 \r\nL 98.904163 131.365662 \r\nL 100.002949 132.099741 \r\nL 102.20052 133.18991 \r\nL 103.299306 133.456594 \r\nL 104.398091 133.529391 \r\nL 105.496877 134.210052 \r\nL 106.595663 134.05292 \r\nL 107.694448 133.426184 \r\nL 108.793234 135.374054 \r\nL 109.89202 135.837437 \r\nL 110.990806 134.692844 \r\nL 112.089591 134.671226 \r\nL 113.188377 136.603491 \r\nL 114.287163 137.257558 \r\nL 115.385948 136.055317 \r\nL 117.58352 137.629128 \r\nL 118.682305 136.889606 \r\nL 119.781091 136.630988 \r\nL 121.978662 139.025392 \r\nL 123.077448 139.287608 \r\nL 124.176234 138.193799 \r\nL 125.275019 139.102222 \r\nL 126.373805 138.821592 \r\nL 127.472591 139.550881 \r\nL 128.571377 139.300848 \r\nL 129.670162 140.005595 \r\nL 130.768948 141.032652 \r\nL 131.867734 141.198836 \r\nL 132.966519 141.159219 \r\nL 134.065305 142.136762 \r\nL 136.262876 142.559946 \r\nL 137.361662 143.024759 \r\nL 138.460448 142.882521 \r\nL 139.559233 143.555784 \r\nL 141.756805 143.682833 \r\nL 142.855591 144.255918 \r\nL 143.954376 144.236638 \r\nL 145.053162 143.655191 \r\nL 147.250733 143.370362 \r\nL 148.349519 145.04274 \r\nL 149.448305 145.531426 \r\nL 150.54709 144.521197 \r\nL 151.645876 145.169239 \r\nL 152.744662 146.358318 \r\nL 153.843447 146.663717 \r\nL 154.942233 146.827174 \r\nL 156.041019 147.414868 \r\nL 157.139805 145.620843 \r\nL 158.23859 145.665873 \r\nL 159.337376 147.131112 \r\nL 160.436162 148.34959 \r\nL 161.534947 147.27996 \r\nL 162.633733 148.486037 \r\nL 163.732519 148.910419 \r\nL 164.831304 148.216984 \r\nL 165.93009 143.608554 \r\nL 167.028876 143.904342 \r\nL 168.127661 147.549869 \r\nL 169.226447 148.979778 \r\nL 170.325233 149.753345 \r\nL 171.424019 149.522478 \r\nL 172.522804 149.051434 \r\nL 173.62159 150.85536 \r\nL 174.720376 150.698363 \r\nL 175.819161 151.360542 \r\nL 176.917947 151.297752 \r\nL 179.115518 150.952247 \r\nL 180.214304 152.046025 \r\nL 181.31309 151.848596 \r\nL 182.411875 152.394417 \r\nL 185.708232 153.17125 \r\nL 186.807018 153.112031 \r\nL 187.905804 153.308599 \r\nL 189.00459 153.228467 \r\nL 190.103375 152.997559 \r\nL 191.202161 153.124877 \r\nL 192.300947 153.643787 \r\nL 193.399732 154.006415 \r\nL 194.498518 154.672923 \r\nL 197.794875 155.471561 \r\nL 198.893661 155.640777 \r\nL 199.992446 156.220171 \r\nL 202.190018 156.974479 \r\nL 203.288804 156.011233 \r\nL 204.387589 155.638201 \r\nL 205.486375 155.572434 \r\nL 206.585161 157.136365 \r\nL 207.683946 157.353333 \r\nL 208.782732 157.37126 \r\nL 209.881518 158.604372 \r\nL 210.980303 157.959902 \r\nL 212.079089 157.863559 \r\nL 213.177875 158.562562 \r\nL 214.27666 158.389603 \r\nL 215.375446 159.432482 \r\nL 216.474232 158.466992 \r\nL 217.573018 157.830178 \r\nL 218.671803 158.861782 \r\nL 219.770589 157.113472 \r\nL 220.869375 159.998153 \r\nL 221.96816 159.17276 \r\nL 223.066946 159.010972 \r\nL 224.165732 160.069824 \r\nL 225.264517 160.440607 \r\nL 226.363303 161.07248 \r\nL 227.462089 160.05732 \r\nL 228.560874 157.05037 \r\nL 229.65966 160.496917 \r\nL 230.758446 158.765559 \r\nL 231.857231 159.142547 \r\nL 232.956017 160.056677 \r\nL 234.054803 154.958996 \r\nL 235.153589 158.601962 \r\nL 237.35116 160.711298 \r\nL 238.449946 161.790161 \r\nL 239.548731 162.233574 \r\nL 240.647517 162.449308 \r\nL 241.746303 159.994301 \r\nL 242.845088 161.650328 \r\nL 243.943874 162.160036 \r\nL 245.04266 163.227551 \r\nL 246.141445 163.05977 \r\nL 247.240231 164.404747 \r\nL 248.339017 164.393384 \r\nL 249.437803 164.037806 \r\nL 250.536588 162.611951 \r\nL 251.635374 164.521977 \r\nL 252.73416 163.326755 \r\nL 253.832945 163.400708 \r\nL 254.931731 164.325419 \r\nL 256.030517 164.410419 \r\nL 258.228088 166.012028 \r\nL 259.326874 165.557967 \r\nL 260.425659 165.698282 \r\nL 261.524445 166.205579 \r\nL 262.623231 164.255676 \r\nL 263.722017 162.94013 \r\nL 264.820802 166.887764 \r\nL 265.919588 166.79827 \r\nL 267.018374 165.684207 \r\nL 268.117159 167.161375 \r\nL 270.314731 166.671885 \r\nL 271.413516 167.595248 \r\nL 272.512302 166.756304 \r\nL 273.611088 167.943065 \r\nL 274.709873 166.778373 \r\nL 275.808659 167.596031 \r\nL 276.907445 165.762114 \r\nL 278.006231 167.271326 \r\nL 279.105016 167.638049 \r\nL 280.203802 168.66747 \r\nL 281.302588 168.04665 \r\nL 283.500159 169.185556 \r\nL 284.598945 169.491246 \r\nL 285.69773 168.970838 \r\nL 286.796516 169.258228 \r\nL 287.895302 170.160435 \r\nL 288.994087 170.680843 \r\nL 290.092873 170.878681 \r\nL 291.191659 170.043054 \r\nL 292.290444 171.00757 \r\nL 293.38923 170.412385 \r\nL 294.488016 171.551488 \r\nL 295.586802 170.936666 \r\nL 296.685587 171.415658 \r\nL 297.784373 170.309168 \r\nL 298.883159 170.770985 \r\nL 299.981944 172.077988 \r\nL 301.08073 172.228671 \r\nL 302.179516 171.699201 \r\nL 303.278301 171.837665 \r\nL 304.377087 170.652252 \r\nL 306.574658 172.342064 \r\nL 307.673444 172.538659 \r\nL 308.77223 173.0562 \r\nL 309.871016 172.93657 \r\nL 310.969801 173.142677 \r\nL 312.068587 172.359286 \r\nL 313.167373 170.900688 \r\nL 314.266158 171.603076 \r\nL 315.364944 171.325282 \r\nL 316.46373 168.902832 \r\nL 317.562515 165.12064 \r\nL 319.760087 158.986845 \r\nL 320.858872 167.135412 \r\nL 321.957658 171.022671 \r\nL 323.056444 174.322709 \r\nL 324.15523 173.894429 \r\nL 325.254015 173.669581 \r\nL 326.352801 173.960849 \r\nL 327.451587 171.929876 \r\nL 328.550372 172.861814 \r\nL 330.747944 169.864175 \r\nL 331.846729 172.986981 \r\nL 332.945515 175.538128 \r\nL 334.044301 175.476934 \r\nL 335.143086 174.279255 \r\nL 336.241872 175.026378 \r\nL 337.340658 175.531513 \r\nL 338.439444 175.140424 \r\nL 339.538229 175.578342 \r\nL 340.637015 172.444623 \r\nL 341.735801 174.546266 \r\nL 342.834586 176.142919 \r\nL 343.933372 170.561399 \r\nL 345.032158 172.313805 \r\nL 347.229729 176.447914 \r\nL 348.328515 175.112305 \r\nL 349.4273 169.836434 \r\nL 350.526086 173.90247 \r\nL 351.624872 175.96675 \r\nL 353.822443 166.899869 \r\nL 353.822443 166.899869 \r\n\" style=\"fill:none;stroke:#1f77b4;stroke-linecap:square;stroke-width:1.5;\"/>\r\n   </g>\r\n   <g id=\"line2d_14\">\r\n    <path clip-path=\"url(#pbb23a49c58)\" d=\"M 57.003871 -1 \r\nL 57.150307 7.05483 \r\nL 58.249092 28.740622 \r\nL 59.347878 41.538522 \r\nL 60.446664 49.768231 \r\nL 61.545449 55.611168 \r\nL 63.743021 62.573337 \r\nL 64.841806 64.590624 \r\nL 65.940592 67.459162 \r\nL 67.039378 68.296333 \r\nL 68.138164 71.856056 \r\nL 69.236949 76.091391 \r\nL 70.335735 78.901555 \r\nL 71.434521 82.768327 \r\nL 72.533306 86.058971 \r\nL 73.632092 88.226131 \r\nL 74.730878 88.780755 \r\nL 75.829663 91.173127 \r\nL 76.928449 96.212735 \r\nL 78.027235 98.846398 \r\nL 79.12602 100.805124 \r\nL 80.224806 102.167898 \r\nL 81.323592 101.723169 \r\nL 82.422378 103.516976 \r\nL 83.521163 104.848489 \r\nL 85.718735 104.770623 \r\nL 86.81752 104.975916 \r\nL 87.916306 107.240353 \r\nL 89.015092 107.057497 \r\nL 90.113877 107.050436 \r\nL 91.212663 106.266008 \r\nL 92.311449 106.238937 \r\nL 96.706592 105.191568 \r\nL 97.805377 104.978954 \r\nL 98.904163 105.711976 \r\nL 100.002949 105.105853 \r\nL 101.101734 107.157147 \r\nL 102.20052 107.310775 \r\nL 103.299306 106.599123 \r\nL 104.398091 106.517876 \r\nL 105.496877 105.762003 \r\nL 106.595663 106.599911 \r\nL 107.694448 106.238698 \r\nL 108.793234 106.222015 \r\nL 109.89202 108.083123 \r\nL 110.990806 109.717299 \r\nL 112.089591 110.425986 \r\nL 113.188377 108.734691 \r\nL 114.287163 107.887131 \r\nL 115.385948 108.228519 \r\nL 116.484734 107.273781 \r\nL 117.58352 107.411752 \r\nL 118.682305 106.936301 \r\nL 119.781091 107.480951 \r\nL 121.978662 106.477917 \r\nL 123.077448 106.782539 \r\nL 124.176234 107.684129 \r\nL 125.275019 107.48937 \r\nL 126.373805 104.166273 \r\nL 127.472591 106.697186 \r\nL 128.571377 108.472517 \r\nL 129.670162 108.207025 \r\nL 130.768948 107.74187 \r\nL 131.867734 107.558174 \r\nL 132.966519 107.218859 \r\nL 134.065305 107.82773 \r\nL 135.164091 109.023792 \r\nL 136.262876 108.611515 \r\nL 137.361662 108.748004 \r\nL 138.460448 109.29847 \r\nL 139.559233 109.207529 \r\nL 140.658019 108.999001 \r\nL 141.756805 108.488878 \r\nL 143.954376 109.048209 \r\nL 145.053162 108.371052 \r\nL 146.151948 110.071658 \r\nL 147.250733 109.952236 \r\nL 148.349519 108.58942 \r\nL 149.448305 109.194538 \r\nL 150.54709 111.433427 \r\nL 151.645876 110.976421 \r\nL 152.744662 109.99486 \r\nL 153.843447 109.752863 \r\nL 154.942233 109.071227 \r\nL 156.041019 109.906304 \r\nL 157.139805 111.086771 \r\nL 158.23859 110.985908 \r\nL 159.337376 110.615312 \r\nL 160.436162 111.25816 \r\nL 161.534947 111.155109 \r\nL 162.633733 111.397272 \r\nL 163.732519 112.765376 \r\nL 164.831304 110.738758 \r\nL 165.93009 106.220543 \r\nL 168.127661 110.873567 \r\nL 169.226447 110.265526 \r\nL 170.325233 111.029963 \r\nL 171.424019 111.299644 \r\nL 172.522804 111.32206 \r\nL 173.62159 112.914307 \r\nL 174.720376 113.398871 \r\nL 175.819161 113.257582 \r\nL 176.917947 113.895785 \r\nL 178.016733 113.836571 \r\nL 179.115518 114.605757 \r\nL 180.214304 113.681378 \r\nL 181.31309 113.657396 \r\nL 182.411875 114.155439 \r\nL 183.510661 115.139841 \r\nL 184.609447 115.683112 \r\nL 185.708232 114.976084 \r\nL 186.807018 114.870233 \r\nL 187.905804 115.649611 \r\nL 189.00459 111.983913 \r\nL 190.103375 112.670827 \r\nL 191.202161 115.299472 \r\nL 192.300947 116.478737 \r\nL 193.399732 115.935819 \r\nL 195.597304 115.485304 \r\nL 196.696089 116.533503 \r\nL 197.794875 116.607273 \r\nL 198.893661 115.723558 \r\nL 199.992446 116.297695 \r\nL 201.091232 116.6812 \r\nL 202.190018 116.291236 \r\nL 203.288804 116.441255 \r\nL 204.387589 116.280194 \r\nL 205.486375 118.513753 \r\nL 206.585161 119.189293 \r\nL 207.683946 117.723229 \r\nL 208.782732 117.427016 \r\nL 209.881518 118.334941 \r\nL 210.980303 118.878377 \r\nL 212.079089 119.140779 \r\nL 213.177875 118.895547 \r\nL 214.27666 119.929955 \r\nL 215.375446 119.409765 \r\nL 216.474232 120.059933 \r\nL 217.573018 121.157713 \r\nL 218.671803 118.176803 \r\nL 219.770589 113.421329 \r\nL 220.869375 116.658607 \r\nL 223.066946 119.461679 \r\nL 224.165732 119.201745 \r\nL 225.264517 118.63892 \r\nL 226.363303 118.967783 \r\nL 228.560874 116.923332 \r\nL 229.65966 119.387224 \r\nL 230.758446 115.275397 \r\nL 232.956017 120.716996 \r\nL 234.054803 119.282846 \r\nL 236.252374 118.08159 \r\nL 237.35116 116.94749 \r\nL 238.449946 118.276951 \r\nL 239.548731 120.89868 \r\nL 240.647517 120.719474 \r\nL 241.746303 123.290243 \r\nL 243.943874 122.958 \r\nL 245.04266 122.423792 \r\nL 246.141445 119.447454 \r\nL 247.240231 124.241923 \r\nL 248.339017 125.132087 \r\nL 250.536588 120.876917 \r\nL 251.635374 119.958945 \r\nL 252.73416 120.677876 \r\nL 253.832945 122.897407 \r\nL 254.931731 123.404274 \r\nL 256.030517 122.444342 \r\nL 257.129302 122.700824 \r\nL 258.228088 123.80076 \r\nL 259.326874 121.97731 \r\nL 260.425659 124.484698 \r\nL 261.524445 125.94649 \r\nL 263.722017 124.988796 \r\nL 264.820802 124.787256 \r\nL 265.919588 122.342037 \r\nL 268.117159 122.935283 \r\nL 269.215945 124.674625 \r\nL 270.314731 125.349874 \r\nL 271.413516 125.527391 \r\nL 272.512302 121.832713 \r\nL 273.611088 123.450942 \r\nL 274.709873 124.588381 \r\nL 275.808659 122.985777 \r\nL 276.907445 120.509422 \r\nL 279.105016 125.335161 \r\nL 280.203802 123.951319 \r\nL 281.302588 124.814836 \r\nL 282.401373 122.748425 \r\nL 283.500159 122.13915 \r\nL 284.598945 123.303256 \r\nL 285.69773 123.334641 \r\nL 286.796516 125.008631 \r\nL 288.994087 124.746177 \r\nL 290.092873 122.843523 \r\nL 291.191659 125.3022 \r\nL 292.290444 124.894859 \r\nL 293.38923 125.538951 \r\nL 294.488016 124.667326 \r\nL 295.586802 124.065495 \r\nL 296.685587 124.200771 \r\nL 297.784373 126.886868 \r\nL 298.883159 125.157583 \r\nL 299.981944 124.6317 \r\nL 301.08073 127.36547 \r\nL 302.179516 127.680202 \r\nL 303.278301 124.286102 \r\nL 304.377087 123.067085 \r\nL 305.475873 124.848253 \r\nL 307.673444 124.22523 \r\nL 308.77223 126.589296 \r\nL 310.969801 127.200043 \r\nL 312.068587 126.624559 \r\nL 313.167373 126.310885 \r\nL 314.266158 124.208765 \r\nL 315.364944 126.00928 \r\nL 316.46373 125.736842 \r\nL 317.562515 126.12664 \r\nL 318.661301 124.63874 \r\nL 319.760087 129.157805 \r\nL 320.858872 130.485244 \r\nL 321.957658 128.792373 \r\nL 323.056444 125.983183 \r\nL 324.15523 125.238145 \r\nL 326.352801 128.513568 \r\nL 327.451587 128.637915 \r\nL 328.550372 126.997933 \r\nL 329.649158 126.740176 \r\nL 330.747944 127.819376 \r\nL 331.846729 126.935889 \r\nL 332.945515 126.531762 \r\nL 334.044301 128.604415 \r\nL 335.143086 128.300187 \r\nL 336.241872 127.681228 \r\nL 337.340658 129.091935 \r\nL 338.439444 129.491189 \r\nL 339.538229 126.924961 \r\nL 340.637015 128.699659 \r\nL 341.735801 129.767371 \r\nL 342.834586 127.691679 \r\nL 343.933372 125.861521 \r\nL 345.032158 127.708383 \r\nL 346.130943 130.439115 \r\nL 347.229729 130.511071 \r\nL 348.328515 129.701272 \r\nL 349.4273 130.009534 \r\nL 350.526086 126.879164 \r\nL 351.624872 127.487672 \r\nL 352.723657 125.966791 \r\nL 353.822443 122.961816 \r\nL 353.822443 122.961816 \r\n\" style=\"fill:none;stroke:#ff7f0e;stroke-linecap:square;stroke-width:1.5;\"/>\r\n   </g>\r\n   <g id=\"patch_3\">\r\n    <path d=\"M 34.240625 228.439219 \r\nL 34.240625 10.999219 \r\n\" style=\"fill:none;stroke:#000000;stroke-linecap:square;stroke-linejoin:miter;stroke-width:0.8;\"/>\r\n   </g>\r\n   <g id=\"patch_4\">\r\n    <path d=\"M 369.040625 228.439219 \r\nL 369.040625 10.999219 \r\n\" style=\"fill:none;stroke:#000000;stroke-linecap:square;stroke-linejoin:miter;stroke-width:0.8;\"/>\r\n   </g>\r\n   <g id=\"patch_5\">\r\n    <path d=\"M 34.240625 228.439219 \r\nL 369.040625 228.439219 \r\n\" style=\"fill:none;stroke:#000000;stroke-linecap:square;stroke-linejoin:miter;stroke-width:0.8;\"/>\r\n   </g>\r\n   <g id=\"patch_6\">\r\n    <path d=\"M 34.240625 10.999219 \r\nL 369.040625 10.999219 \r\n\" style=\"fill:none;stroke:#000000;stroke-linecap:square;stroke-linejoin:miter;stroke-width:0.8;\"/>\r\n   </g>\r\n   <g id=\"legend_1\">\r\n    <g id=\"patch_7\">\r\n     <path d=\"M 281.565625 48.355469 \r\nL 362.040625 48.355469 \r\nQ 364.040625 48.355469 364.040625 46.355469 \r\nL 364.040625 17.999219 \r\nQ 364.040625 15.999219 362.040625 15.999219 \r\nL 281.565625 15.999219 \r\nQ 279.565625 15.999219 279.565625 17.999219 \r\nL 279.565625 46.355469 \r\nQ 279.565625 48.355469 281.565625 48.355469 \r\nz\r\n\" style=\"fill:#ffffff;opacity:0.8;stroke:#cccccc;stroke-linejoin:miter;\"/>\r\n    </g>\r\n    <g id=\"line2d_15\">\r\n     <path d=\"M 283.565625 24.097656 \r\nL 303.565625 24.097656 \r\n\" style=\"fill:none;stroke:#1f77b4;stroke-linecap:square;stroke-width:1.5;\"/>\r\n    </g>\r\n    <g id=\"line2d_16\"/>\r\n    <g id=\"text_15\">\r\n     <!-- train mae -->\r\n     <defs>\r\n      <path d=\"M 18.3125 70.21875 \r\nL 18.3125 54.6875 \r\nL 36.8125 54.6875 \r\nL 36.8125 47.703125 \r\nL 18.3125 47.703125 \r\nL 18.3125 18.015625 \r\nQ 18.3125 11.328125 20.140625 9.421875 \r\nQ 21.96875 7.515625 27.59375 7.515625 \r\nL 36.8125 7.515625 \r\nL 36.8125 0 \r\nL 27.59375 0 \r\nQ 17.1875 0 13.234375 3.875 \r\nQ 9.28125 7.765625 9.28125 18.015625 \r\nL 9.28125 47.703125 \r\nL 2.6875 47.703125 \r\nL 2.6875 54.6875 \r\nL 9.28125 54.6875 \r\nL 9.28125 70.21875 \r\nz\r\n\" id=\"DejaVuSans-116\"/>\r\n      <path d=\"M 41.109375 46.296875 \r\nQ 39.59375 47.171875 37.8125 47.578125 \r\nQ 36.03125 48 33.890625 48 \r\nQ 26.265625 48 22.1875 43.046875 \r\nQ 18.109375 38.09375 18.109375 28.8125 \r\nL 18.109375 0 \r\nL 9.078125 0 \r\nL 9.078125 54.6875 \r\nL 18.109375 54.6875 \r\nL 18.109375 46.1875 \r\nQ 20.953125 51.171875 25.484375 53.578125 \r\nQ 30.03125 56 36.53125 56 \r\nQ 37.453125 56 38.578125 55.875 \r\nQ 39.703125 55.765625 41.0625 55.515625 \r\nz\r\n\" id=\"DejaVuSans-114\"/>\r\n      <path d=\"M 9.421875 54.6875 \r\nL 18.40625 54.6875 \r\nL 18.40625 0 \r\nL 9.421875 0 \r\nz\r\nM 9.421875 75.984375 \r\nL 18.40625 75.984375 \r\nL 18.40625 64.59375 \r\nL 9.421875 64.59375 \r\nz\r\n\" id=\"DejaVuSans-105\"/>\r\n      <path d=\"M 54.890625 33.015625 \r\nL 54.890625 0 \r\nL 45.90625 0 \r\nL 45.90625 32.71875 \r\nQ 45.90625 40.484375 42.875 44.328125 \r\nQ 39.84375 48.1875 33.796875 48.1875 \r\nQ 26.515625 48.1875 22.3125 43.546875 \r\nQ 18.109375 38.921875 18.109375 30.90625 \r\nL 18.109375 0 \r\nL 9.078125 0 \r\nL 9.078125 54.6875 \r\nL 18.109375 54.6875 \r\nL 18.109375 46.1875 \r\nQ 21.34375 51.125 25.703125 53.5625 \r\nQ 30.078125 56 35.796875 56 \r\nQ 45.21875 56 50.046875 50.171875 \r\nQ 54.890625 44.34375 54.890625 33.015625 \r\nz\r\n\" id=\"DejaVuSans-110\"/>\r\n     </defs>\r\n     <g transform=\"translate(311.565625 27.597656)scale(0.1 -0.1)\">\r\n      <use xlink:href=\"#DejaVuSans-116\"/>\r\n      <use x=\"39.208984\" xlink:href=\"#DejaVuSans-114\"/>\r\n      <use x=\"80.322266\" xlink:href=\"#DejaVuSans-97\"/>\r\n      <use x=\"141.601562\" xlink:href=\"#DejaVuSans-105\"/>\r\n      <use x=\"169.384766\" xlink:href=\"#DejaVuSans-110\"/>\r\n      <use x=\"232.763672\" xlink:href=\"#DejaVuSans-32\"/>\r\n      <use x=\"264.550781\" xlink:href=\"#DejaVuSans-109\"/>\r\n      <use x=\"361.962891\" xlink:href=\"#DejaVuSans-97\"/>\r\n      <use x=\"423.242188\" xlink:href=\"#DejaVuSans-101\"/>\r\n     </g>\r\n    </g>\r\n    <g id=\"line2d_17\">\r\n     <path d=\"M 283.565625 38.775781 \r\nL 303.565625 38.775781 \r\n\" style=\"fill:none;stroke:#ff7f0e;stroke-linecap:square;stroke-width:1.5;\"/>\r\n    </g>\r\n    <g id=\"line2d_18\"/>\r\n    <g id=\"text_16\">\r\n     <!-- val mae -->\r\n     <defs>\r\n      <path d=\"M 2.984375 54.6875 \r\nL 12.5 54.6875 \r\nL 29.59375 8.796875 \r\nL 46.6875 54.6875 \r\nL 56.203125 54.6875 \r\nL 35.6875 0 \r\nL 23.484375 0 \r\nz\r\n\" id=\"DejaVuSans-118\"/>\r\n      <path d=\"M 9.421875 75.984375 \r\nL 18.40625 75.984375 \r\nL 18.40625 0 \r\nL 9.421875 0 \r\nz\r\n\" id=\"DejaVuSans-108\"/>\r\n     </defs>\r\n     <g transform=\"translate(311.565625 42.275781)scale(0.1 -0.1)\">\r\n      <use xlink:href=\"#DejaVuSans-118\"/>\r\n      <use x=\"59.179688\" xlink:href=\"#DejaVuSans-97\"/>\r\n      <use x=\"120.458984\" xlink:href=\"#DejaVuSans-108\"/>\r\n      <use x=\"148.242188\" xlink:href=\"#DejaVuSans-32\"/>\r\n      <use x=\"180.029297\" xlink:href=\"#DejaVuSans-109\"/>\r\n      <use x=\"277.441406\" xlink:href=\"#DejaVuSans-97\"/>\r\n      <use x=\"338.720703\" xlink:href=\"#DejaVuSans-101\"/>\r\n     </g>\r\n    </g>\r\n   </g>\r\n  </g>\r\n </g>\r\n <defs>\r\n  <clipPath id=\"pbb23a49c58\">\r\n   <rect height=\"217.44\" width=\"334.8\" x=\"34.240625\" y=\"10.999219\"/>\r\n  </clipPath>\r\n </defs>\r\n</svg>\r\n",
      "image/png": "[encoded data removed]"
     },
     "metadata": {
      "needs_background": "light"
     }
    }
   ],
   "source": [
    "print(history.history.keys())\n",
    "plt.plot(history.history['mae'], label='train mae')\n",
    "plt.plot(history.history['val_mae'], label='val mae')\n",
    "plt.xlabel('epoch')\n",
    "plt.ylabel('mae [1000$]')\n",
    "plt.legend(loc='best')\n",
    "plt.ylim([0, 5])\n",
    "plt.show()"
   ]
  },
  {
   "cell_type": "code",
   "execution_count": 14,
   "metadata": {},
   "outputs": [
    {
     "output_type": "stream",
     "name": "stdout",
     "text": "102/102 [==============================] - 0s 235us/sample - loss: 15.7857 - mae: 2.4847\nloss:15.786 mae: 2.485\n"
    }
   ],
   "source": [
    "# 評価\n",
    "test_loss, test_mae = model.evaluate(test_data, test_labels)\n",
    "print('loss:{:.3f} mae: {:.3f}'.format(test_loss, test_mae))"
   ]
  },
  {
   "cell_type": "code",
   "execution_count": 15,
   "metadata": {},
   "outputs": [
    {
     "output_type": "stream",
     "name": "stdout",
     "text": "[ 7. 19. 19. 27. 22. 24. 31. 23. 20. 23.]\n[ 8. 19. 22. 34. 26. 24. 25. 21. 20. 22.]\n"
    }
   ],
   "source": [
    "# 推論\n",
    "print(np.round(test_labels[0:10]))\n",
    "\n",
    "test_predictions = model.predict(test_data[0:10]).flatten()\n",
    "print(np.round(test_predictions))"
   ]
  }
 ],
 "metadata": {
  "language_info": {
   "codemirror_mode": {
    "name": "ipython",
    "version": 3
   },
   "file_extension": ".py",
   "mimetype": "text/x-python",
   "name": "python",
   "nbconvert_exporter": "python",
   "pygments_lexer": "ipython3",
   "version": "3.7.7-final"
  },
  "orig_nbformat": 2,
  "kernelspec": {
   "name": "python37664bitdlenvconda4ed1964df216439a8417d0a4f16ce08f",
   "display_name": "Python 3.7.6 64-bit ('dl_env': conda)"
  }
 },
 "nbformat": 4,
 "nbformat_minor": 2
}