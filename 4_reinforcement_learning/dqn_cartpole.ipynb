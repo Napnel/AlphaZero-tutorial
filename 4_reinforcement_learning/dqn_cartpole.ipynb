{
 "cells": [
  {
   "cell_type": "code",
   "execution_count": 1,
   "metadata": {},
   "outputs": [],
   "source": [
    "import gym\n",
    "import numpy as np\n",
    "from tensorflow.keras.models import Sequential\n",
    "from tensorflow.keras.layers import Dense\n",
    "from tensorflow.keras.optimizers import Adam\n",
    "from collections import deque\n",
    "from tensorflow.compat.v1.losses import huber_loss\n",
    "from utils.gpu_memory import limited_gpu_memory"
   ]
  },
  {
   "cell_type": "code",
   "execution_count": 2,
   "metadata": {},
   "outputs": [
    {
     "name": "stdout",
     "output_type": "stream",
     "text": [
      "memory growth: True\n"
     ]
    },
    {
     "data": {
      "text/plain": [
       "[name: \"/device:CPU:0\"\n",
       " device_type: \"CPU\"\n",
       " memory_limit: 268435456\n",
       " locality {\n",
       " }\n",
       " incarnation: 393722072269112159,\n",
       " name: \"/device:GPU:0\"\n",
       " device_type: \"GPU\"\n",
       " memory_limit: 7049546957\n",
       " locality {\n",
       "   bus_id: 1\n",
       "   links {\n",
       "   }\n",
       " }\n",
       " incarnation: 12511179666425546025\n",
       " physical_device_desc: \"device: 0, name: GeForce RTX 2060 SUPER, pci bus id: 0000:06:00.0, compute capability: 7.5\"]"
      ]
     },
     "execution_count": 2,
     "metadata": {},
     "output_type": "execute_result"
    }
   ],
   "source": [
    "limited_gpu_memory()\n",
    "from tensorflow.python.client import device_lib\n",
    "device_lib.list_local_devices()"
   ]
  },
  {
   "cell_type": "code",
   "execution_count": 3,
   "metadata": {},
   "outputs": [],
   "source": [
    "NUM_EPISODES = 200\n",
    "MAX_STEPS = 50\n",
    "GAMMA = 0.99\n",
    "WARMUP = 10\n",
    "\n",
    "E_START = 1.0\n",
    "E_STOP = 0.01\n",
    "E_DECAY_RATE = 0.001\n",
    "\n",
    "MEMORY_SIZE = 1000\n",
    "BATCH_SIZE = 32"
   ]
  },
  {
   "cell_type": "code",
   "execution_count": 4,
   "metadata": {},
   "outputs": [],
   "source": [
    "class QNetwork:\n",
    "    def __init__(self, state_size, action_size):\n",
    "        self.model = Sequential()\n",
    "        self.model.add(Dense(16, activation='relu', input_dim=state_size))\n",
    "        self.model.add(Dense(16, activation='relu'))\n",
    "        self.model.add(Dense(16, activation='relu'))\n",
    "        self.model.add(Dense(action_size, activation='linear'))\n",
    "        \n",
    "        self.model.compile(loss=huber_loss, optimizer=Adam(lr=0.001))"
   ]
  },
  {
   "cell_type": "code",
   "execution_count": 5,
   "metadata": {},
   "outputs": [],
   "source": [
    "class Memory():\n",
    "    def __init__(self, memory_size):\n",
    "        self.buffer = deque(maxlen=memory_size)\n",
    "        \n",
    "    def add(self, experience):\n",
    "        self.buffer.append(experience)\n",
    "        \n",
    "    def sample(self, batch_size):\n",
    "        idx = np.random.choice(np.arange(len(self.buffer)), size=batch_size, replace=False)\n",
    "        return [self.buffer[i] for i in idx]\n",
    "    \n",
    "    def __len__(self):\n",
    "        return len(self.buffer)"
   ]
  },
  {
   "cell_type": "code",
   "execution_count": 6,
   "metadata": {},
   "outputs": [],
   "source": [
    "env = gym.make('CartPole-v0')\n",
    "state_size = env.observation_space.shape[0]\n",
    "action_size = env.action_space.n\n",
    "\n",
    "main_qn = QNetwork(state_size, action_size)\n",
    "\n",
    "target_qn = QNetwork(state_size, action_size)\n",
    "\n",
    "memory = Memory(MEMORY_SIZE)"
   ]
  },
  {
   "cell_type": "code",
   "execution_count": null,
   "metadata": {},
   "outputs": [
    {
     "name": "stdout",
     "output_type": "stream",
     "text": [
      "エピソード: 1, ステップ数: 26, epsilon: 0.9746\n",
      "エピソード: 2, ステップ数: 20, epsilon: 0.9555\n",
      "エピソード: 3, ステップ数: 11, epsilon: 0.9451\n",
      "エピソード: 4, ステップ数: 13, epsilon: 0.9331\n",
      "エピソード: 5, ステップ数: 10, epsilon: 0.9239\n",
      "エピソード: 6, ステップ数: 44, epsilon: 0.8845\n"
     ]
    }
   ],
   "source": [
    "state = env.reset()\n",
    "state = np.reshape(state, [1, state_size])\n",
    "\n",
    "total_step = 0\n",
    "success_count = 0\n",
    "\n",
    "for episode in range(1, NUM_EPISODES + 1):\n",
    "    step = 0\n",
    "    \n",
    "    target_qn.model.set_weights(main_qn.model.get_weights())\n",
    "    \n",
    "    for _ in range(1, MAX_STEPS + 1):\n",
    "        # env.render()\n",
    "        step += 1\n",
    "        total_step += 1\n",
    "        \n",
    "        epsilon = E_STOP + (E_START - E_STOP) * np.exp(-E_DECAY_RATE * total_step)\n",
    "        \n",
    "        if epsilon > np.random.rand():\n",
    "            action = env.action_space.sample()\n",
    "        else:\n",
    "            action = np.argmax(main_qn.model.predict(state)[0])\n",
    "            \n",
    "        next_state, _, done, _ = env.step(action)\n",
    "        next_state = np.reshape(next_state, [1, state_size])\n",
    "        \n",
    "        if done:\n",
    "            if step >= 190:\n",
    "                success_count += 1\n",
    "                reward = 1\n",
    "            else:\n",
    "                success_count = 0\n",
    "                reward = 0\n",
    "                \n",
    "            next_state = np.zeros(state.shape)\n",
    "            \n",
    "            if step > WARMUP:\n",
    "                memory.add((state, action, reward, next_state))\n",
    "            \n",
    "        else:\n",
    "            reward = 0\n",
    "            \n",
    "            if step > WARMUP:\n",
    "                memory.add((state, action, reward, next_state))\n",
    "                \n",
    "            state = next_state\n",
    "            \n",
    "        if len(memory) >= BATCH_SIZE:\n",
    "            inputs = np.zeros((BATCH_SIZE, 4))\n",
    "            targets = np.zeros((BATCH_SIZE, 2))\n",
    "            \n",
    "            minibatch = memory.sample(BATCH_SIZE)\n",
    "            \n",
    "            for i, (state_b, action_b, reward_b, next_state_b) in enumerate(minibatch):\n",
    "                inputs[i] = state_b\n",
    "                \n",
    "                if not(next_state_b == np.zeros(state_b.shape)).all(axis=1):\n",
    "                    target = reward_b + GAMMA * np.amax(target_qn.model.predict(next_state_b)[0])\n",
    "                else:\n",
    "                    target = reward_b\n",
    "                    \n",
    "                targets[i] = main_qn.model.predict(state_b)\n",
    "                targets[i][action_b] = target\n",
    "                \n",
    "            main_qn.model.fit(inputs, targets, epochs=1, verbose=0)\n",
    "        \n",
    "        if done:\n",
    "            break\n",
    "            \n",
    "    print('エピソード: {}, ステップ数: {}, epsilon: {:.4f}'.format(episode, step, epsilon))\n",
    "    \n",
    "    if success_count >= 5:\n",
    "        break\n",
    "        \n",
    "    state = env.reset()\n",
    "    state = np.reshape(state, [1, state_size])"
   ]
  },
  {
   "cell_type": "code",
   "execution_count": null,
   "metadata": {},
   "outputs": [],
   "source": []
  },
  {
   "cell_type": "code",
   "execution_count": null,
   "metadata": {},
   "outputs": [],
   "source": []
  }
 ],
 "metadata": {
  "kernelspec": {
   "display_name": "Python 3.7.6 64-bit ('dl_env': conda)",
   "language": "python",
   "name": "python37664bitdlenvconda4ed1964df216439a8417d0a4f16ce08f"
  },
  "language_info": {
   "codemirror_mode": {
    "name": "ipython",
    "version": 3
   },
   "file_extension": ".py",
   "mimetype": "text/x-python",
   "name": "python",
   "nbconvert_exporter": "python",
   "pygments_lexer": "ipython3",
   "version": "3.7.7"
  }
 },
 "nbformat": 4,
 "nbformat_minor": 4
}
