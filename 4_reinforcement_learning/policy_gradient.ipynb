{
 "cells": [
  {
   "cell_type": "code",
   "execution_count": 1,
   "metadata": {},
   "outputs": [],
   "source": [
    "import numpy as np\n",
    "import matplotlib.pyplot as plt\n",
    "from matplotlib import animation\n",
    "from IPython.display import HTML"
   ]
  },
  {
   "cell_type": "code",
   "execution_count": 2,
   "metadata": {},
   "outputs": [
    {
     "data": {
      "image/png": "[encoded data removed]",
      "text/plain": [
       "<Figure size 216x216 with 1 Axes>"
      ]
     },
     "metadata": {
      "needs_background": "light"
     },
     "output_type": "display_data"
    }
   ],
   "source": [
    "fig = plt.figure(figsize=(3, 3))\n",
    "\n",
    "plt.plot([0, 3], [3, 3], color='k')\n",
    "plt.plot([0, 3], [0, 0], color='k')\n",
    "plt.plot([0, 0], [0, 2], color='k')\n",
    "plt.plot([3, 3], [1, 3], color='k')\n",
    "plt.plot([1, 1], [1, 2], color='k')\n",
    "plt.plot([2, 3], [2, 2], color='k')\n",
    "plt.plot([2, 1], [1, 1], color='k')\n",
    "plt.plot([2, 2], [0, 1], color='k')\n",
    "\n",
    "for i in range(3):\n",
    "    for j in range(3):\n",
    "        plt.text(0.5+i, 2.5-j, str(i+j*3), size=20, ha='center', va='center')\n",
    "\n",
    "circle, = plt.plot([0.5], [2.5], marker='o', color='#d3d3d3', markersize=40)\n",
    "\n",
    "# 目盛りと枠の非表示\n",
    "plt.tick_params(axis='both', which='both', bottom='off', top= 'off',\n",
    "        labelbottom='off', right='off', left='off', labelleft='off')\n",
    "plt.box('off')"
   ]
  },
  {
   "cell_type": "code",
   "execution_count": 3,
   "metadata": {},
   "outputs": [],
   "source": [
    "theta_0 = np.array([\n",
    "    [np.nan, 1, 1, np.nan],\n",
    "    [np.nan, 1, 1, 1],\n",
    "    [np.nan, np.nan, np.nan, 1],\n",
    "    [1, np.nan, 1, np.nan],\n",
    "    [1, 1, np.nan, np.nan],\n",
    "    [np.nan, np.nan, 1, 1],\n",
    "    [1, 1, np.nan, np.nan],\n",
    "    [np.nan, np.nan, np.nan, 1]\n",
    "])"
   ]
  },
  {
   "cell_type": "code",
   "execution_count": 7,
   "metadata": {},
   "outputs": [],
   "source": [
    "def get_pi(theta):\n",
    "    [m, n] = theta.shape\n",
    "    pi = np.zeros((m, n))\n",
    "    exp_theta = np.exp(theta)\n",
    "    for i in range(0, m):\n",
    "        pi[i, :] = exp_theta[i, :] / np.nansum(exp_theta[i, :])\n",
    "    pi = np.nan_to_num(pi)\n",
    "    return pi"
   ]
  },
  {
   "cell_type": "code",
   "execution_count": 8,
   "metadata": {},
   "outputs": [
    {
     "name": "stdout",
     "output_type": "stream",
     "text": [
      "[[0.         0.5        0.5        0.        ]\n",
      " [0.         0.33333333 0.33333333 0.33333333]\n",
      " [0.         0.         0.         1.        ]\n",
      " [0.5        0.         0.5        0.        ]\n",
      " [0.5        0.5        0.         0.        ]\n",
      " [0.         0.         0.5        0.5       ]\n",
      " [0.5        0.5        0.         0.        ]\n",
      " [0.         0.         0.         1.        ]]\n"
     ]
    }
   ],
   "source": [
    "pi_0 = get_pi(theta_0)\n",
    "print(pi_0)"
   ]
  },
  {
   "cell_type": "code",
   "execution_count": 9,
   "metadata": {},
   "outputs": [],
   "source": [
    "def get_action(pi, s):\n",
    "    return np.random.choice([0, 1, 2, 3], p=pi[s])"
   ]
  },
  {
   "cell_type": "code",
   "execution_count": 11,
   "metadata": {},
   "outputs": [],
   "source": [
    "def get_s_next(s, a):\n",
    "    if a == 0:\n",
    "        return s - 3\n",
    "    elif a == 1:\n",
    "        return s + 1\n",
    "    elif a == 2:\n",
    "        return s + 3\n",
    "    elif a == 3:\n",
    "        return s- 1"
   ]
  },
  {
   "cell_type": "code",
   "execution_count": 12,
   "metadata": {},
   "outputs": [],
   "source": [
    "def play(pi):\n",
    "    s = 0\n",
    "    s_a_history = [[0, np.nan]]\n",
    "    \n",
    "    while True:\n",
    "        a = get_action(pi, s)\n",
    "        \n",
    "        s_next = get_s_next(s, a)\n",
    "        \n",
    "        s_a_history[-1][1] = a\n",
    "        s_a_history.append([s_next, np.nan])\n",
    "        \n",
    "        if s_next == 8:\n",
    "            break\n",
    "        else:\n",
    "            s = s_next\n",
    "            \n",
    "    return s_a_history"
   ]
  },
  {
   "cell_type": "code",
   "execution_count": 13,
   "metadata": {},
   "outputs": [
    {
     "name": "stdout",
     "output_type": "stream",
     "text": [
      "[[0, 2], [3, 0], [0, 1], [1, 1], [2, 3], [1, 3], [0, 1], [1, 2], [4, 1], [5, 2], [8, nan]]\n",
      "1エピソードのステップ数：12\n"
     ]
    }
   ],
   "source": [
    "s_a_history = play(pi_0)\n",
    "print(s_a_history)\n",
    "print('1エピソードのステップ数：{}'.format(len(s_a_history)+1))"
   ]
  },
  {
   "cell_type": "code",
   "execution_count": 14,
   "metadata": {},
   "outputs": [],
   "source": [
    "def update_theta(theta, pi, s_a_history):\n",
    "    eta = 0.1\n",
    "    total = len(s_a_history)\n",
    "    [s_count, a_count] = theta.shape\n",
    "    \n",
    "    delta_theta = theta.copy()\n",
    "    for i in range(0, s_count):\n",
    "        for j in range(0, a_count):\n",
    "            if np.isnan(theta[i, j]):\n",
    "                continue\n",
    "            \n",
    "            sa_ij = [sa for sa in s_a_history if sa == [i, j]]\n",
    "            n_ij = len(sa_ij)\n",
    "            \n",
    "            sa_i = [sa for sa in s_a_history if sa[0] == i]\n",
    "            n_i = len(sa_i)\n",
    "            \n",
    "            delta_theta[i, j] = (n_ij - pi[i, j] * n_i) / total\n",
    "            \n",
    "    return theta + eta + delta_theta"
   ]
  },
  {
   "cell_type": "code",
   "execution_count": 18,
   "metadata": {},
   "outputs": [
    {
     "name": "stdout",
     "output_type": "stream",
     "text": [
      "エピソード: 0, ステップ： 38, 方策変化量: 0.1057\n",
      "エピソード: 100, ステップ： 4, 方策変化量: 0.0912\n",
      "エピソード: 200, ステップ： 4, 方策変化量: 0.0177\n",
      "エピソード: 300, ステップ： 4, 方策変化量: 0.0088\n",
      "エピソード: 400, ステップ： 4, 方策変化量: 0.0020\n",
      "エピソード: 500, ステップ： 4, 方策変化量: 0.0006\n",
      "エピソード: 600, ステップ： 4, 方策変化量: 0.0004\n",
      "エピソード: 700, ステップ： 4, 方策変化量: 0.0003\n",
      "エピソード: 800, ステップ： 4, 方策変化量: 0.0003\n",
      "エピソード: 900, ステップ： 4, 方策変化量: 0.0004\n",
      "エピソード: 1000, ステップ： 4, 方策変化量: 0.0004\n",
      "エピソード: 1100, ステップ： 4, 方策変化量: 0.0004\n",
      "エピソード: 1200, ステップ： 4, 方策変化量: 0.0003\n",
      "エピソード: 1300, ステップ： 4, 方策変化量: 0.0003\n",
      "エピソード: 1400, ステップ： 4, 方策変化量: 0.0001\n"
     ]
    }
   ],
   "source": [
    "stop_epsilon = 10**-4\n",
    "theta = theta_0\n",
    "pi = pi_0\n",
    "\n",
    "for episode in range(10000):\n",
    "    s_a_history = play(pi)\n",
    "    theta = update_theta(theta, pi, s_a_history)\n",
    "    \n",
    "    pi_new = get_pi(theta)\n",
    "    \n",
    "    pi_delta = np.sum(np.abs(pi_new - pi))\n",
    "    pi = pi_new\n",
    "    \n",
    "    if episode % 100 == 0:\n",
    "        print('エピソード: {}, ステップ： {}, 方策変化量: {:.4f}'.format(episode, len(s_a_history)-1, pi_delta))\n",
    "    \n",
    "    if pi_delta < stop_epsilon: # 方策の変化量がしきい値以下\n",
    "        break"
   ]
  },
  {
   "cell_type": "code",
   "execution_count": null,
   "metadata": {},
   "outputs": [],
   "source": [
    "def animate(i):\n",
    "    state = s_a_history[i][0]\n",
    "    circle.set_data((state % 3) + 0)"
   ]
  }
 ],
 "metadata": {
  "kernelspec": {
   "display_name": "Python 3.7.6 64-bit ('dl_env': conda)",
   "language": "python",
   "name": "python37664bitdlenvconda4ed1964df216439a8417d0a4f16ce08f"
  },
  "language_info": {
   "codemirror_mode": {
    "name": "ipython",
    "version": 3
   },
   "file_extension": ".py",
   "mimetype": "text/x-python",
   "name": "python",
   "nbconvert_exporter": "python",
   "pygments_lexer": "ipython3",
   "version": "3.7.7"
  }
 },
 "nbformat": 4,
 "nbformat_minor": 4
}
